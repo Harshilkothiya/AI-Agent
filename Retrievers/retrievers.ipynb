{
 "cells": [
  {
   "cell_type": "code",
   "execution_count": 3,
   "id": "0d2b4de5",
   "metadata": {},
   "outputs": [
    {
     "name": "stdout",
     "output_type": "stream",
     "text": [
      "Defaulting to user installation because normal site-packages is not writeable\n",
      "Requirement already satisfied: langchain in c:\\users\\dell\\appdata\\roaming\\python\\python312\\site-packages (0.3.27)\n",
      "Requirement already satisfied: chromadb in c:\\users\\dell\\appdata\\roaming\\python\\python312\\site-packages (1.0.20)\n",
      "Collecting faiss-cpu\n",
      "  Downloading faiss_cpu-1.12.0-cp312-cp312-win_amd64.whl.metadata (5.2 kB)\n",
      "Requirement already satisfied: tiktoken in c:\\users\\dell\\appdata\\roaming\\python\\python312\\site-packages (0.11.0)\n",
      "Collecting wikipedia\n",
      "  Using cached wikipedia-1.4.0-py3-none-any.whl\n",
      "Requirement already satisfied: langchain-core<1.0.0,>=0.3.72 in c:\\users\\dell\\appdata\\roaming\\python\\python312\\site-packages (from langchain) (0.3.74)\n",
      "Requirement already satisfied: langchain-text-splitters<1.0.0,>=0.3.9 in c:\\users\\dell\\appdata\\roaming\\python\\python312\\site-packages (from langchain) (0.3.9)\n",
      "Requirement already satisfied: langsmith>=0.1.17 in c:\\users\\dell\\appdata\\roaming\\python\\python312\\site-packages (from langchain) (0.4.14)\n",
      "Requirement already satisfied: pydantic<3.0.0,>=2.7.4 in c:\\users\\dell\\appdata\\roaming\\python\\python312\\site-packages (from langchain) (2.9.2)\n",
      "Requirement already satisfied: SQLAlchemy<3,>=1.4 in c:\\users\\dell\\appdata\\roaming\\python\\python312\\site-packages (from langchain) (2.0.37)\n",
      "Requirement already satisfied: requests<3,>=2 in c:\\users\\dell\\appdata\\roaming\\python\\python312\\site-packages (from langchain) (2.32.3)\n",
      "Requirement already satisfied: PyYAML>=5.3 in c:\\users\\dell\\appdata\\roaming\\python\\python312\\site-packages (from langchain) (6.0.1)\n",
      "Requirement already satisfied: tenacity!=8.4.0,<10.0.0,>=8.1.0 in c:\\users\\dell\\appdata\\roaming\\python\\python312\\site-packages (from langchain-core<1.0.0,>=0.3.72->langchain) (8.5.0)\n",
      "Requirement already satisfied: jsonpatch<2.0,>=1.33 in c:\\users\\dell\\appdata\\roaming\\python\\python312\\site-packages (from langchain-core<1.0.0,>=0.3.72->langchain) (1.33)\n",
      "Requirement already satisfied: typing-extensions>=4.7 in c:\\users\\dell\\appdata\\roaming\\python\\python312\\site-packages (from langchain-core<1.0.0,>=0.3.72->langchain) (4.12.2)\n",
      "Requirement already satisfied: packaging>=23.2 in c:\\users\\dell\\appdata\\roaming\\python\\python312\\site-packages (from langchain-core<1.0.0,>=0.3.72->langchain) (24.1)\n",
      "Requirement already satisfied: jsonpointer>=1.9 in c:\\users\\dell\\appdata\\roaming\\python\\python312\\site-packages (from jsonpatch<2.0,>=1.33->langchain-core<1.0.0,>=0.3.72->langchain) (3.0.0)\n",
      "Requirement already satisfied: annotated-types>=0.6.0 in c:\\users\\dell\\appdata\\roaming\\python\\python312\\site-packages (from pydantic<3.0.0,>=2.7.4->langchain) (0.7.0)\n",
      "Requirement already satisfied: pydantic-core==2.23.4 in c:\\users\\dell\\appdata\\roaming\\python\\python312\\site-packages (from pydantic<3.0.0,>=2.7.4->langchain) (2.23.4)\n",
      "Requirement already satisfied: charset-normalizer<4,>=2 in c:\\users\\dell\\appdata\\roaming\\python\\python312\\site-packages (from requests<3,>=2->langchain) (3.3.2)\n",
      "Requirement already satisfied: idna<4,>=2.5 in c:\\users\\dell\\appdata\\roaming\\python\\python312\\site-packages (from requests<3,>=2->langchain) (3.7)\n",
      "Requirement already satisfied: urllib3<3,>=1.21.1 in c:\\users\\dell\\appdata\\roaming\\python\\python312\\site-packages (from requests<3,>=2->langchain) (2.2.2)\n",
      "Requirement already satisfied: certifi>=2017.4.17 in c:\\users\\dell\\appdata\\roaming\\python\\python312\\site-packages (from requests<3,>=2->langchain) (2024.7.4)\n",
      "Requirement already satisfied: greenlet!=0.4.17 in c:\\users\\dell\\appdata\\roaming\\python\\python312\\site-packages (from SQLAlchemy<3,>=1.4->langchain) (3.1.1)\n",
      "Requirement already satisfied: build>=1.0.3 in c:\\users\\dell\\appdata\\roaming\\python\\python312\\site-packages (from chromadb) (1.3.0)\n",
      "Requirement already satisfied: pybase64>=1.4.1 in c:\\users\\dell\\appdata\\roaming\\python\\python312\\site-packages (from chromadb) (1.4.2)\n",
      "Requirement already satisfied: uvicorn>=0.18.3 in c:\\users\\dell\\appdata\\roaming\\python\\python312\\site-packages (from uvicorn[standard]>=0.18.3->chromadb) (0.35.0)\n",
      "Requirement already satisfied: numpy>=1.22.5 in c:\\users\\dell\\appdata\\roaming\\python\\python312\\site-packages (from chromadb) (2.1.3)\n",
      "Requirement already satisfied: posthog<6.0.0,>=2.4.0 in c:\\users\\dell\\appdata\\roaming\\python\\python312\\site-packages (from chromadb) (5.4.0)\n",
      "Requirement already satisfied: onnxruntime>=1.14.1 in c:\\users\\dell\\appdata\\roaming\\python\\python312\\site-packages (from chromadb) (1.22.1)\n",
      "Requirement already satisfied: opentelemetry-api>=1.2.0 in c:\\users\\dell\\appdata\\roaming\\python\\python312\\site-packages (from chromadb) (1.36.0)\n",
      "Requirement already satisfied: opentelemetry-exporter-otlp-proto-grpc>=1.2.0 in c:\\users\\dell\\appdata\\roaming\\python\\python312\\site-packages (from chromadb) (1.36.0)\n",
      "Requirement already satisfied: opentelemetry-sdk>=1.2.0 in c:\\users\\dell\\appdata\\roaming\\python\\python312\\site-packages (from chromadb) (1.36.0)\n",
      "Requirement already satisfied: tokenizers>=0.13.2 in c:\\users\\dell\\appdata\\roaming\\python\\python312\\site-packages (from chromadb) (0.21.0)\n",
      "Requirement already satisfied: pypika>=0.48.9 in c:\\users\\dell\\appdata\\roaming\\python\\python312\\site-packages (from chromadb) (0.48.9)\n",
      "Requirement already satisfied: tqdm>=4.65.0 in c:\\users\\dell\\appdata\\roaming\\python\\python312\\site-packages (from chromadb) (4.66.5)\n",
      "Requirement already satisfied: overrides>=7.3.1 in c:\\users\\dell\\appdata\\roaming\\python\\python312\\site-packages (from chromadb) (7.7.0)\n",
      "Requirement already satisfied: importlib-resources in c:\\users\\dell\\appdata\\roaming\\python\\python312\\site-packages (from chromadb) (6.5.2)\n",
      "Requirement already satisfied: grpcio>=1.58.0 in c:\\users\\dell\\appdata\\roaming\\python\\python312\\site-packages (from chromadb) (1.74.0)\n",
      "Requirement already satisfied: bcrypt>=4.0.1 in c:\\users\\dell\\appdata\\roaming\\python\\python312\\site-packages (from chromadb) (4.3.0)\n",
      "Requirement already satisfied: typer>=0.9.0 in c:\\users\\dell\\appdata\\roaming\\python\\python312\\site-packages (from chromadb) (0.15.1)\n",
      "Requirement already satisfied: kubernetes>=28.1.0 in c:\\users\\dell\\appdata\\roaming\\python\\python312\\site-packages (from chromadb) (33.1.0)\n",
      "Requirement already satisfied: mmh3>=4.0.1 in c:\\users\\dell\\appdata\\roaming\\python\\python312\\site-packages (from chromadb) (5.2.0)\n",
      "Requirement already satisfied: orjson>=3.9.12 in c:\\users\\dell\\appdata\\roaming\\python\\python312\\site-packages (from chromadb) (3.11.2)\n",
      "Requirement already satisfied: httpx>=0.27.0 in c:\\users\\dell\\appdata\\roaming\\python\\python312\\site-packages (from chromadb) (0.27.0)\n",
      "Requirement already satisfied: rich>=10.11.0 in c:\\users\\dell\\appdata\\roaming\\python\\python312\\site-packages (from chromadb) (13.7.1)\n",
      "Requirement already satisfied: jsonschema>=4.19.0 in c:\\users\\dell\\appdata\\roaming\\python\\python312\\site-packages (from chromadb) (4.23.0)\n",
      "Requirement already satisfied: six>=1.5 in c:\\users\\dell\\appdata\\roaming\\python\\python312\\site-packages (from posthog<6.0.0,>=2.4.0->chromadb) (1.16.0)\n",
      "Requirement already satisfied: python-dateutil>=2.2 in c:\\users\\dell\\appdata\\roaming\\python\\python312\\site-packages (from posthog<6.0.0,>=2.4.0->chromadb) (2.9.0.post0)\n",
      "Requirement already satisfied: backoff>=1.10.0 in c:\\users\\dell\\appdata\\roaming\\python\\python312\\site-packages (from posthog<6.0.0,>=2.4.0->chromadb) (2.2.1)\n",
      "Requirement already satisfied: distro>=1.5.0 in c:\\users\\dell\\appdata\\roaming\\python\\python312\\site-packages (from posthog<6.0.0,>=2.4.0->chromadb) (1.9.0)\n",
      "Requirement already satisfied: regex>=2022.1.18 in c:\\users\\dell\\appdata\\roaming\\python\\python312\\site-packages (from tiktoken) (2024.11.6)\n",
      "Requirement already satisfied: beautifulsoup4 in c:\\users\\dell\\appdata\\roaming\\python\\python312\\site-packages (from wikipedia) (4.12.3)\n",
      "Requirement already satisfied: pyproject_hooks in c:\\users\\dell\\appdata\\roaming\\python\\python312\\site-packages (from build>=1.0.3->chromadb) (1.2.0)\n",
      "Requirement already satisfied: colorama in c:\\users\\dell\\appdata\\roaming\\python\\python312\\site-packages (from build>=1.0.3->chromadb) (0.4.6)\n",
      "Requirement already satisfied: anyio in c:\\users\\dell\\appdata\\roaming\\python\\python312\\site-packages (from httpx>=0.27.0->chromadb) (4.4.0)\n",
      "Requirement already satisfied: httpcore==1.* in c:\\users\\dell\\appdata\\roaming\\python\\python312\\site-packages (from httpx>=0.27.0->chromadb) (1.0.5)\n",
      "Requirement already satisfied: sniffio in c:\\users\\dell\\appdata\\roaming\\python\\python312\\site-packages (from httpx>=0.27.0->chromadb) (1.3.1)\n",
      "Requirement already satisfied: h11<0.15,>=0.13 in c:\\users\\dell\\appdata\\roaming\\python\\python312\\site-packages (from httpcore==1.*->httpx>=0.27.0->chromadb) (0.14.0)\n",
      "Requirement already satisfied: attrs>=22.2.0 in c:\\users\\dell\\appdata\\roaming\\python\\python312\\site-packages (from jsonschema>=4.19.0->chromadb) (23.2.0)\n",
      "Requirement already satisfied: jsonschema-specifications>=2023.03.6 in c:\\users\\dell\\appdata\\roaming\\python\\python312\\site-packages (from jsonschema>=4.19.0->chromadb) (2023.12.1)\n",
      "Requirement already satisfied: referencing>=0.28.4 in c:\\users\\dell\\appdata\\roaming\\python\\python312\\site-packages (from jsonschema>=4.19.0->chromadb) (0.35.1)\n",
      "Requirement already satisfied: rpds-py>=0.7.1 in c:\\users\\dell\\appdata\\roaming\\python\\python312\\site-packages (from jsonschema>=4.19.0->chromadb) (0.19.0)\n",
      "Requirement already satisfied: google-auth>=1.0.1 in c:\\users\\dell\\appdata\\roaming\\python\\python312\\site-packages (from kubernetes>=28.1.0->chromadb) (2.40.3)\n",
      "Requirement already satisfied: websocket-client!=0.40.0,!=0.41.*,!=0.42.*,>=0.32.0 in c:\\users\\dell\\appdata\\roaming\\python\\python312\\site-packages (from kubernetes>=28.1.0->chromadb) (1.8.0)\n",
      "Requirement already satisfied: requests-oauthlib in c:\\users\\dell\\appdata\\roaming\\python\\python312\\site-packages (from kubernetes>=28.1.0->chromadb) (2.0.0)\n",
      "Requirement already satisfied: oauthlib>=3.2.2 in c:\\users\\dell\\appdata\\roaming\\python\\python312\\site-packages (from kubernetes>=28.1.0->chromadb) (3.3.1)\n",
      "Requirement already satisfied: durationpy>=0.7 in c:\\users\\dell\\appdata\\roaming\\python\\python312\\site-packages (from kubernetes>=28.1.0->chromadb) (0.10)\n",
      "Requirement already satisfied: cachetools<6.0,>=2.0.0 in c:\\users\\dell\\appdata\\roaming\\python\\python312\\site-packages (from google-auth>=1.0.1->kubernetes>=28.1.0->chromadb) (5.5.0)\n",
      "Requirement already satisfied: pyasn1-modules>=0.2.1 in c:\\users\\dell\\appdata\\roaming\\python\\python312\\site-packages (from google-auth>=1.0.1->kubernetes>=28.1.0->chromadb) (0.4.2)\n",
      "Requirement already satisfied: rsa<5,>=3.1.4 in c:\\users\\dell\\appdata\\roaming\\python\\python312\\site-packages (from google-auth>=1.0.1->kubernetes>=28.1.0->chromadb) (4.9.1)\n",
      "Requirement already satisfied: pyasn1>=0.1.3 in c:\\users\\dell\\appdata\\roaming\\python\\python312\\site-packages (from rsa<5,>=3.1.4->google-auth>=1.0.1->kubernetes>=28.1.0->chromadb) (0.6.1)\n",
      "Requirement already satisfied: requests-toolbelt>=1.0.0 in c:\\users\\dell\\appdata\\roaming\\python\\python312\\site-packages (from langsmith>=0.1.17->langchain) (1.0.0)\n",
      "Requirement already satisfied: zstandard>=0.23.0 in c:\\users\\dell\\appdata\\roaming\\python\\python312\\site-packages (from langsmith>=0.1.17->langchain) (0.23.0)\n",
      "Requirement already satisfied: coloredlogs in c:\\users\\dell\\appdata\\roaming\\python\\python312\\site-packages (from onnxruntime>=1.14.1->chromadb) (15.0.1)\n",
      "Requirement already satisfied: flatbuffers in c:\\users\\dell\\appdata\\roaming\\python\\python312\\site-packages (from onnxruntime>=1.14.1->chromadb) (25.2.10)\n",
      "Requirement already satisfied: protobuf in c:\\users\\dell\\appdata\\roaming\\python\\python312\\site-packages (from onnxruntime>=1.14.1->chromadb) (5.27.3)\n",
      "Requirement already satisfied: sympy in c:\\users\\dell\\appdata\\roaming\\python\\python312\\site-packages (from onnxruntime>=1.14.1->chromadb) (1.13.1)\n",
      "Requirement already satisfied: importlib-metadata<8.8.0,>=6.0 in c:\\users\\dell\\appdata\\roaming\\python\\python312\\site-packages (from opentelemetry-api>=1.2.0->chromadb) (8.7.0)\n",
      "Requirement already satisfied: zipp>=3.20 in c:\\users\\dell\\appdata\\roaming\\python\\python312\\site-packages (from importlib-metadata<8.8.0,>=6.0->opentelemetry-api>=1.2.0->chromadb) (3.23.0)\n",
      "Requirement already satisfied: googleapis-common-protos~=1.57 in c:\\users\\dell\\appdata\\roaming\\python\\python312\\site-packages (from opentelemetry-exporter-otlp-proto-grpc>=1.2.0->chromadb) (1.70.0)\n",
      "Requirement already satisfied: opentelemetry-exporter-otlp-proto-common==1.36.0 in c:\\users\\dell\\appdata\\roaming\\python\\python312\\site-packages (from opentelemetry-exporter-otlp-proto-grpc>=1.2.0->chromadb) (1.36.0)\n",
      "Requirement already satisfied: opentelemetry-proto==1.36.0 in c:\\users\\dell\\appdata\\roaming\\python\\python312\\site-packages (from opentelemetry-exporter-otlp-proto-grpc>=1.2.0->chromadb) (1.36.0)\n",
      "Requirement already satisfied: opentelemetry-semantic-conventions==0.57b0 in c:\\users\\dell\\appdata\\roaming\\python\\python312\\site-packages (from opentelemetry-sdk>=1.2.0->chromadb) (0.57b0)\n",
      "Requirement already satisfied: markdown-it-py>=2.2.0 in c:\\users\\dell\\appdata\\roaming\\python\\python312\\site-packages (from rich>=10.11.0->chromadb) (3.0.0)\n",
      "Requirement already satisfied: pygments<3.0.0,>=2.13.0 in c:\\users\\dell\\appdata\\roaming\\python\\python312\\site-packages (from rich>=10.11.0->chromadb) (2.18.0)\n",
      "Requirement already satisfied: mdurl~=0.1 in c:\\users\\dell\\appdata\\roaming\\python\\python312\\site-packages (from markdown-it-py>=2.2.0->rich>=10.11.0->chromadb) (0.1.2)\n",
      "Requirement already satisfied: huggingface-hub<1.0,>=0.16.4 in c:\\users\\dell\\appdata\\roaming\\python\\python312\\site-packages (from tokenizers>=0.13.2->chromadb) (0.34.4)\n",
      "Requirement already satisfied: filelock in c:\\users\\dell\\appdata\\roaming\\python\\python312\\site-packages (from huggingface-hub<1.0,>=0.16.4->tokenizers>=0.13.2->chromadb) (3.17.0)\n",
      "Requirement already satisfied: fsspec>=2023.5.0 in c:\\users\\dell\\appdata\\roaming\\python\\python312\\site-packages (from huggingface-hub<1.0,>=0.16.4->tokenizers>=0.13.2->chromadb) (2025.2.0)\n",
      "Requirement already satisfied: click>=8.0.0 in c:\\users\\dell\\appdata\\roaming\\python\\python312\\site-packages (from typer>=0.9.0->chromadb) (8.1.7)\n",
      "Requirement already satisfied: shellingham>=1.3.0 in c:\\users\\dell\\appdata\\roaming\\python\\python312\\site-packages (from typer>=0.9.0->chromadb) (1.5.4)\n",
      "Requirement already satisfied: httptools>=0.6.3 in c:\\users\\dell\\appdata\\roaming\\python\\python312\\site-packages (from uvicorn[standard]>=0.18.3->chromadb) (0.6.4)\n",
      "Requirement already satisfied: python-dotenv>=0.13 in c:\\users\\dell\\appdata\\roaming\\python\\python312\\site-packages (from uvicorn[standard]>=0.18.3->chromadb) (1.0.1)\n",
      "Requirement already satisfied: watchfiles>=0.13 in c:\\users\\dell\\appdata\\roaming\\python\\python312\\site-packages (from uvicorn[standard]>=0.18.3->chromadb) (1.1.0)\n",
      "Requirement already satisfied: websockets>=10.4 in c:\\users\\dell\\appdata\\roaming\\python\\python312\\site-packages (from uvicorn[standard]>=0.18.3->chromadb) (15.0.1)\n",
      "Requirement already satisfied: soupsieve>1.2 in c:\\users\\dell\\appdata\\roaming\\python\\python312\\site-packages (from beautifulsoup4->wikipedia) (2.5)\n",
      "Requirement already satisfied: humanfriendly>=9.1 in c:\\users\\dell\\appdata\\roaming\\python\\python312\\site-packages (from coloredlogs->onnxruntime>=1.14.1->chromadb) (10.0)\n",
      "Requirement already satisfied: pyreadline3 in c:\\users\\dell\\appdata\\roaming\\python\\python312\\site-packages (from humanfriendly>=9.1->coloredlogs->onnxruntime>=1.14.1->chromadb) (3.5.4)\n",
      "Requirement already satisfied: mpmath<1.4,>=1.1.0 in c:\\users\\dell\\appdata\\roaming\\python\\python312\\site-packages (from sympy->onnxruntime>=1.14.1->chromadb) (1.3.0)\n",
      "Downloading faiss_cpu-1.12.0-cp312-cp312-win_amd64.whl (18.2 MB)\n",
      "   ---------------------------------------- 0.0/18.2 MB ? eta -:--:--\n",
      "   ---------------------------------------- 0.0/18.2 MB ? eta -:--:--\n",
      "    --------------------------------------- 0.3/18.2 MB ? eta -:--:--\n",
      "   - -------------------------------------- 0.5/18.2 MB 985.5 kB/s eta 0:00:18\n",
      "   - -------------------------------------- 0.8/18.2 MB 1.0 MB/s eta 0:00:18\n",
      "   -- ------------------------------------- 1.0/18.2 MB 1.1 MB/s eta 0:00:16\n",
      "   -- ------------------------------------- 1.0/18.2 MB 1.1 MB/s eta 0:00:16\n",
      "   -- ------------------------------------- 1.3/18.2 MB 1.0 MB/s eta 0:00:17\n",
      "   --- ------------------------------------ 1.6/18.2 MB 1.0 MB/s eta 0:00:16\n",
      "   ---- ----------------------------------- 1.8/18.2 MB 1.0 MB/s eta 0:00:16\n",
      "   ---- ----------------------------------- 2.1/18.2 MB 1.1 MB/s eta 0:00:16\n",
      "   ----- ---------------------------------- 2.4/18.2 MB 1.1 MB/s eta 0:00:15\n",
      "   ------ --------------------------------- 2.9/18.2 MB 1.2 MB/s eta 0:00:13\n",
      "   ------ --------------------------------- 2.9/18.2 MB 1.2 MB/s eta 0:00:13\n",
      "   ------ --------------------------------- 3.1/18.2 MB 1.1 MB/s eta 0:00:14\n",
      "   ------- -------------------------------- 3.4/18.2 MB 1.1 MB/s eta 0:00:14\n",
      "   -------- ------------------------------- 3.7/18.2 MB 1.1 MB/s eta 0:00:14\n",
      "   --------- ------------------------------ 4.2/18.2 MB 1.2 MB/s eta 0:00:12\n",
      "   --------- ------------------------------ 4.5/18.2 MB 1.2 MB/s eta 0:00:12\n",
      "   ---------- ----------------------------- 4.7/18.2 MB 1.2 MB/s eta 0:00:11\n",
      "   ---------- ----------------------------- 4.7/18.2 MB 1.2 MB/s eta 0:00:11\n",
      "   ---------- ----------------------------- 5.0/18.2 MB 1.2 MB/s eta 0:00:12\n",
      "   ---------- ----------------------------- 5.0/18.2 MB 1.2 MB/s eta 0:00:12\n",
      "   ----------- ---------------------------- 5.2/18.2 MB 1.1 MB/s eta 0:00:12\n",
      "   ------------ --------------------------- 5.5/18.2 MB 1.1 MB/s eta 0:00:12\n",
      "   ------------ --------------------------- 5.8/18.2 MB 1.1 MB/s eta 0:00:12\n",
      "   ------------ --------------------------- 5.8/18.2 MB 1.1 MB/s eta 0:00:12\n",
      "   ------------- -------------------------- 6.0/18.2 MB 1.1 MB/s eta 0:00:12\n",
      "   -------------- ------------------------- 6.6/18.2 MB 1.1 MB/s eta 0:00:11\n",
      "   --------------- ------------------------ 6.8/18.2 MB 1.1 MB/s eta 0:00:10\n",
      "   --------------- ------------------------ 7.1/18.2 MB 1.2 MB/s eta 0:00:10\n",
      "   ---------------- ----------------------- 7.3/18.2 MB 1.2 MB/s eta 0:00:10\n",
      "   ---------------- ----------------------- 7.6/18.2 MB 1.2 MB/s eta 0:00:10\n",
      "   ---------------- ----------------------- 7.6/18.2 MB 1.2 MB/s eta 0:00:10\n",
      "   ----------------- ---------------------- 7.9/18.2 MB 1.1 MB/s eta 0:00:10\n",
      "   ----------------- ---------------------- 8.1/18.2 MB 1.1 MB/s eta 0:00:10\n",
      "   ----------------- ---------------------- 8.1/18.2 MB 1.1 MB/s eta 0:00:10\n",
      "   ----------------- ---------------------- 8.1/18.2 MB 1.1 MB/s eta 0:00:10\n",
      "   ------------------ --------------------- 8.4/18.2 MB 1.1 MB/s eta 0:00:10\n",
      "   ------------------ --------------------- 8.4/18.2 MB 1.1 MB/s eta 0:00:10\n",
      "   ------------------- -------------------- 8.7/18.2 MB 1.0 MB/s eta 0:00:10\n",
      "   ------------------- -------------------- 8.7/18.2 MB 1.0 MB/s eta 0:00:10\n",
      "   ------------------- -------------------- 8.9/18.2 MB 1.0 MB/s eta 0:00:10\n",
      "   ------------------- -------------------- 8.9/18.2 MB 1.0 MB/s eta 0:00:10\n",
      "   -------------------- ------------------- 9.2/18.2 MB 993.7 kB/s eta 0:00:10\n",
      "   -------------------- ------------------- 9.2/18.2 MB 993.7 kB/s eta 0:00:10\n",
      "   -------------------- ------------------- 9.4/18.2 MB 983.6 kB/s eta 0:00:09\n",
      "   -------------------- ------------------- 9.4/18.2 MB 983.6 kB/s eta 0:00:09\n",
      "   -------------------- ------------------- 9.4/18.2 MB 983.6 kB/s eta 0:00:09\n",
      "   --------------------- ------------------ 9.7/18.2 MB 942.2 kB/s eta 0:00:09\n",
      "   --------------------- ------------------ 9.7/18.2 MB 942.2 kB/s eta 0:00:09\n",
      "   --------------------- ------------------ 10.0/18.2 MB 930.7 kB/s eta 0:00:09\n",
      "   --------------------- ------------------ 10.0/18.2 MB 930.7 kB/s eta 0:00:09\n",
      "   --------------------- ------------------ 10.0/18.2 MB 930.7 kB/s eta 0:00:09\n",
      "   ---------------------- ----------------- 10.2/18.2 MB 894.1 kB/s eta 0:00:09\n",
      "   ---------------------- ----------------- 10.2/18.2 MB 894.1 kB/s eta 0:00:09\n",
      "   ---------------------- ----------------- 10.2/18.2 MB 894.1 kB/s eta 0:00:09\n",
      "   ----------------------- ---------------- 10.5/18.2 MB 867.8 kB/s eta 0:00:09\n",
      "   ----------------------- ---------------- 10.5/18.2 MB 867.8 kB/s eta 0:00:09\n",
      "   ----------------------- ---------------- 10.7/18.2 MB 862.6 kB/s eta 0:00:09\n",
      "   ----------------------- ---------------- 10.7/18.2 MB 862.6 kB/s eta 0:00:09\n",
      "   ------------------------ --------------- 11.0/18.2 MB 859.8 kB/s eta 0:00:09\n",
      "   ------------------------ --------------- 11.0/18.2 MB 859.8 kB/s eta 0:00:09\n",
      "   ------------------------ --------------- 11.3/18.2 MB 841.9 kB/s eta 0:00:09\n",
      "   ------------------------ --------------- 11.3/18.2 MB 841.9 kB/s eta 0:00:09\n",
      "   ------------------------ --------------- 11.3/18.2 MB 841.9 kB/s eta 0:00:09\n",
      "   ------------------------- -------------- 11.5/18.2 MB 829.2 kB/s eta 0:00:09\n",
      "   ------------------------- -------------- 11.8/18.2 MB 826.7 kB/s eta 0:00:08\n",
      "   ------------------------- -------------- 11.8/18.2 MB 826.7 kB/s eta 0:00:08\n",
      "   ------------------------- -------------- 11.8/18.2 MB 826.7 kB/s eta 0:00:08\n",
      "   -------------------------- ------------- 12.1/18.2 MB 818.9 kB/s eta 0:00:08\n",
      "   -------------------------- ------------- 12.1/18.2 MB 818.9 kB/s eta 0:00:08\n",
      "   -------------------------- ------------- 12.1/18.2 MB 818.9 kB/s eta 0:00:08\n",
      "   -------------------------- ------------- 12.1/18.2 MB 818.9 kB/s eta 0:00:08\n",
      "   -------------------------- ------------- 12.1/18.2 MB 818.9 kB/s eta 0:00:08\n",
      "   --------------------------- ------------ 12.3/18.2 MB 776.4 kB/s eta 0:00:08\n",
      "   --------------------------- ------------ 12.3/18.2 MB 776.4 kB/s eta 0:00:08\n",
      "   --------------------------- ------------ 12.6/18.2 MB 775.3 kB/s eta 0:00:08\n",
      "   ---------------------------- ----------- 12.8/18.2 MB 774.3 kB/s eta 0:00:07\n",
      "   ---------------------------- ----------- 12.8/18.2 MB 774.3 kB/s eta 0:00:07\n",
      "   ---------------------------- ----------- 13.1/18.2 MB 769.8 kB/s eta 0:00:07\n",
      "   ---------------------------- ----------- 13.1/18.2 MB 769.8 kB/s eta 0:00:07\n",
      "   ----------------------------- ---------- 13.4/18.2 MB 769.6 kB/s eta 0:00:07\n",
      "   ------------------------------ --------- 13.6/18.2 MB 775.8 kB/s eta 0:00:06\n",
      "   ------------------------------ --------- 13.9/18.2 MB 776.9 kB/s eta 0:00:06\n",
      "   ------------------------------- -------- 14.4/18.2 MB 794.7 kB/s eta 0:00:05\n",
      "   -------------------------------- ------- 14.7/18.2 MB 801.7 kB/s eta 0:00:05\n",
      "   --------------------------------- ------ 15.2/18.2 MB 820.9 kB/s eta 0:00:04\n",
      "   --------------------------------- ------ 15.2/18.2 MB 820.9 kB/s eta 0:00:04\n",
      "   ---------------------------------- ----- 15.7/18.2 MB 827.7 kB/s eta 0:00:03\n",
      "   ----------------------------------- ---- 16.0/18.2 MB 835.4 kB/s eta 0:00:03\n",
      "   ----------------------------------- ---- 16.3/18.2 MB 841.6 kB/s eta 0:00:03\n",
      "   ------------------------------------ --- 16.5/18.2 MB 845.7 kB/s eta 0:00:02\n",
      "   ------------------------------------ --- 16.8/18.2 MB 850.3 kB/s eta 0:00:02\n",
      "   ------------------------------------- -- 17.0/18.2 MB 852.8 kB/s eta 0:00:02\n",
      "   -------------------------------------- - 17.6/18.2 MB 867.8 kB/s eta 0:00:01\n",
      "   ---------------------------------------  17.8/18.2 MB 875.5 kB/s eta 0:00:01\n",
      "   ---------------------------------------  18.1/18.2 MB 882.3 kB/s eta 0:00:01\n",
      "   ---------------------------------------- 18.2/18.2 MB 876.2 kB/s  0:00:20\n",
      "Installing collected packages: faiss-cpu, wikipedia\n",
      "\n",
      "   ---------------------------------------- 0/2 [faiss-cpu]\n",
      "   ---------------------------------------- 0/2 [faiss-cpu]\n",
      "   ---------------------------------------- 0/2 [faiss-cpu]\n",
      "   ---------------------------------------- 0/2 [faiss-cpu]\n",
      "   ---------------------------------------- 0/2 [faiss-cpu]\n",
      "   ---------------------------------------- 0/2 [faiss-cpu]\n",
      "   ---------------------------------------- 0/2 [faiss-cpu]\n",
      "   ---------------------------------------- 0/2 [faiss-cpu]\n",
      "   ---------------------------------------- 0/2 [faiss-cpu]\n",
      "   ---------------------------------------- 0/2 [faiss-cpu]\n",
      "   ---------------------------------------- 2/2 [wikipedia]\n",
      "\n",
      "Successfully installed faiss-cpu-1.12.0 wikipedia-1.4.0\n"
     ]
    }
   ],
   "source": [
    "!pip install langchain chromadb faiss-cpu  tiktoken wikipedia"
   ]
  },
  {
   "cell_type": "markdown",
   "id": "f13ac31b",
   "metadata": {},
   "source": [
    "# Wikipedia Retriever"
   ]
  },
  {
   "cell_type": "code",
   "execution_count": 1,
   "id": "1008fbd3",
   "metadata": {},
   "outputs": [],
   "source": [
    "from langchain_community.retrievers import WikipediaRetriever"
   ]
  },
  {
   "cell_type": "code",
   "execution_count": 4,
   "id": "99160b2f",
   "metadata": {},
   "outputs": [],
   "source": [
    "retriever = WikipediaRetriever(top_k_results=2, lang='en')"
   ]
  },
  {
   "cell_type": "code",
   "execution_count": 5,
   "id": "f0911edb",
   "metadata": {},
   "outputs": [],
   "source": [
    "query = \"who is the greatest captain indian cricket\""
   ]
  },
  {
   "cell_type": "code",
   "execution_count": 6,
   "id": "80799681",
   "metadata": {},
   "outputs": [],
   "source": [
    "docs = retriever.invoke(query)"
   ]
  },
  {
   "cell_type": "code",
   "execution_count": 7,
   "id": "47a7aef6",
   "metadata": {},
   "outputs": [
    {
     "data": {
      "text/plain": [
       "\"The India men's national cricket team, also known as Men in Blue, represents India in international cricket. It is governed by the Board of Control for Cricket in India (BCCI) and is a full member nation of the International Cricket Council with Test, ODI and T20I status. India are the current holders of the T20 World Cup, the Champions Trophy and the Asia Cup.\\nThe team has played 594 Test matches, winning 183, losing 186, with 224 draws and 1 tie. As of August 2025, India is ranked fourth in the ICC Men's Test Team Rankings with 107 rating points. India have played in two of the three World Test Championship finals, finishing runners-up in 2021 and 2023, while finishing third in 2025.\\nTest rivalries include the Border–Gavaskar Trophy with Australia, Freedom Trophy with South Africa, Anderson–Tendulkar Trophy with England.\\nThe team has played 1,066 ODI matches, winning 567, losing 445, tying 10 and with 44 ending in a no-result. As of May 2025, India is ranked first in the ICC Men's ODI Team Rankings with 124 rating points. India have appeared in the World Cup final four times in 1983, 2003, 2011, and 2023 and have won the World Cup twice in 1983 and 2011. It was the second team, after the West Indies, to win the World Cup, and the first to win the competition on home soil after winning it in 2011. India have also won the Champions Trophy three times, in 2002, 2013 and 2025. In addition to that, they have also won the ODI Asia Cup seven times, in 1984, 1988, 1990–91, 1995, 2010, 2018, and 2023.\\nThe team has played 247 Twenty20 International matches, winning 164, losing 71, tying 6 and with 6 ending in a no-result. As of May 2025, India is ranked first in the ICC Men's T20I Team Rankings with 271 rating points. India have won the T20 World Cup twice in 2007 and 2024. They have also won the T20 Asia Cup in 2016 and have secured a gold medal at the Asian Games in 2022.\\n\\n\\n== History ==\\n\\n\\n=== Early history (1700s–1918) ===\\n\\nThe British first brought cricket to India in the early 1700s, with the first cricket match played in 1721. It was played and adopted by Kolis of Gujarat who were sea pirates and outlaws who often looted the British ships. The East India Company tried to manage the Kolis through cricket and were successful, In 1848, the Parsi community in Mumbai formed the Oriental Cricket Club, the first cricket club to be established by Indians. After slow beginnings, the Europeans eventually invited the Parsis to play a match in 1877. By 1912, the Parsis, Hindus, Sikhs and Muslims of Bombay played a quadrangular tournament with the Europeans every year. In the early 1900s, some Indians went on to play for the England cricket team. Some of these, such as Ranjitsinhji and Duleepsinhji were greatly appreciated by the British and their names went on to be used for the Ranji Trophy and Duleep Trophy – two major first-class tournaments in India. In 1911, an Indian men's cricket team, captained by Bhupinder Singh of Patiala, went on their first official tour of the British Isles, but only played English county teams and not the England cricket team.\\n\\n\\n=== Test match status (1918–1970) ===\\n\\nIndia was invited to the International Cricket Council in 1926, and made their debut as a Test playing nation in England in 1932, led by C. K. Nayudu, who was considered the best Indian batsman at the time. The one-off Test match between the two sides was played at Lord's in London. The team was not strong in their batting at this point and went on to lose by 158 runs. India hosted its first men's Test cricket series in 1933 when England toured India. The visitors won the three-test series 2–0 with the matches held at Bombay (now Mumbai), Calcutta (now Kolkata) and Madras (now Chennai). The Indian team continued to improve throughout the 1930s and 1940s but did not achieve an international victory during this period. In the early 1940s, India did not play any men's Test cricket due to World War II. The team's first series as an independent country\""
      ]
     },
     "execution_count": 7,
     "metadata": {},
     "output_type": "execute_result"
    }
   ],
   "source": [
    "docs[0].page_content"
   ]
  },
  {
   "cell_type": "code",
   "execution_count": null,
   "id": "e6589331",
   "metadata": {},
   "outputs": [],
   "source": []
  },
  {
   "cell_type": "markdown",
   "id": "fb1a4a1b",
   "metadata": {},
   "source": [
    "# Vector Store Retriever"
   ]
  },
  {
   "cell_type": "code",
   "execution_count": 16,
   "id": "aa44d762",
   "metadata": {},
   "outputs": [
    {
     "data": {
      "text/plain": [
       "True"
      ]
     },
     "execution_count": 16,
     "metadata": {},
     "output_type": "execute_result"
    }
   ],
   "source": [
    "from langchain_community.vectorstores import Chroma\n",
    "from langchain_google_genai import GoogleGenerativeAIEmbeddings\n",
    "from langchain_core.documents import Document\n",
    "from dotenv import load_dotenv\n",
    "load_dotenv()"
   ]
  },
  {
   "cell_type": "code",
   "execution_count": null,
   "id": "7c7b6cec",
   "metadata": {},
   "outputs": [],
   "source": [
    "# Step 1: Your source documents\n",
    "documents = [\n",
    "    Document(page_content=\"LangChain helps developers build LLM applications easily.\"),\n",
    "    Document(page_content=\"Chroma is a vector data  base optimized for LLM-based search.\"),\n",
    "    Document(page_content=\"Embeddings convert text into high-dimensional vectors.\"),\n",
    "    Document(page_content=\"OpenAI provides powerful embedding models.\"),\n",
    "]"
   ]
  },
  {
   "cell_type": "code",
   "execution_count": 85,
   "id": "ae8742f5",
   "metadata": {},
   "outputs": [],
   "source": [
    "embedding_model = GoogleGenerativeAIEmbeddings(model=\"models/gemini-embedding-001\")"
   ]
  },
  {
   "cell_type": "code",
   "execution_count": null,
   "id": "f8fb1a1d",
   "metadata": {},
   "outputs": [],
   "source": [
    "vectorstroe = Chroma.from_documents(documents=documents, embedding=embedding_model, collection_name='mycollection')"
   ]
  },
  {
   "cell_type": "code",
   "execution_count": 25,
   "id": "ac99009a",
   "metadata": {},
   "outputs": [],
   "source": [
    "retriever = vectorstore.as_retriever(search_kwargs={\"k\": 2})"
   ]
  },
  {
   "cell_type": "code",
   "execution_count": 26,
   "id": "c579c9ec",
   "metadata": {},
   "outputs": [],
   "source": [
    "query = \"What is Chroma used for?\"\n",
    "results = retriever.invoke(query)"
   ]
  },
  {
   "cell_type": "code",
   "execution_count": 28,
   "id": "ad7120e1",
   "metadata": {},
   "outputs": [
    {
     "data": {
      "text/plain": [
       "[Document(metadata={}, page_content='Chroma is a vector data  base optimized for LLM-based search.'),\n",
       " Document(metadata={}, page_content='LangChain helps developers build LLM applications easily.')]"
      ]
     },
     "execution_count": 28,
     "metadata": {},
     "output_type": "execute_result"
    }
   ],
   "source": [
    "results"
   ]
  },
  {
   "cell_type": "code",
   "execution_count": 29,
   "id": "9c6c7ebe",
   "metadata": {},
   "outputs": [
    {
     "data": {
      "text/plain": [
       "[Document(metadata={}, page_content='Chroma is a vector data  base optimized for LLM-based search.'),\n",
       " Document(metadata={}, page_content='LangChain helps developers build LLM applications easily.'),\n",
       " Document(metadata={}, page_content='OpenAI provides powerful embedding models.'),\n",
       " Document(metadata={}, page_content='Embeddings convert text into high-dimensional vectors.')]"
      ]
     },
     "execution_count": 29,
     "metadata": {},
     "output_type": "execute_result"
    }
   ],
   "source": [
    "vectorstore.similarity_search(query=query)"
   ]
  },
  {
   "cell_type": "code",
   "execution_count": null,
   "id": "300c89cd",
   "metadata": {},
   "outputs": [],
   "source": []
  },
  {
   "cell_type": "markdown",
   "id": "4fa49a00",
   "metadata": {},
   "source": [
    "# MMR"
   ]
  },
  {
   "cell_type": "code",
   "execution_count": 31,
   "id": "38ab13a2",
   "metadata": {},
   "outputs": [],
   "source": [
    "from langchain.vectorstores import FAISS"
   ]
  },
  {
   "cell_type": "code",
   "execution_count": 30,
   "id": "b38bcca3",
   "metadata": {},
   "outputs": [],
   "source": [
    "# Sample documents\n",
    "docs = [\n",
    "    Document(page_content=\"LangChain makes it easy to work with LLMs.\"),\n",
    "    Document(page_content=\"LangChain is used to build LLM based applications.\"),\n",
    "    Document(page_content=\"Chroma is used to store and search document embeddings.\"),\n",
    "    Document(page_content=\"Embeddings are vector representations of text.\"),\n",
    "    Document(page_content=\"MMR helps you get diverse results when doing similarity search.\"),\n",
    "    Document(page_content=\"LangChain supports Chroma, FAISS, Pinecone, and more.\"),\n",
    "]"
   ]
  },
  {
   "cell_type": "code",
   "execution_count": 32,
   "id": "46ac2652",
   "metadata": {},
   "outputs": [],
   "source": [
    "vectorstore = FAISS.from_documents(\n",
    "    documents=docs, \n",
    "    embedding=embedding_model\n",
    ")"
   ]
  },
  {
   "cell_type": "code",
   "execution_count": 37,
   "id": "75db6334",
   "metadata": {},
   "outputs": [],
   "source": [
    "retriever = vectorstore.as_retriever(\n",
    "    search_type=\"mmr\",\n",
    "        search_kwargs={'k': 3}\n",
    ")"
   ]
  },
  {
   "cell_type": "code",
   "execution_count": 38,
   "id": "26b3386d",
   "metadata": {},
   "outputs": [],
   "source": [
    "query = \"What is langchain?\"\n",
    "results = retriever.invoke(query)"
   ]
  },
  {
   "cell_type": "code",
   "execution_count": 39,
   "id": "0ebbbec0",
   "metadata": {},
   "outputs": [
    {
     "data": {
      "text/plain": [
       "[Document(id='461bb722-7ba2-4632-9fee-b5d38f88fef8', metadata={}, page_content='LangChain is used to build LLM based applications.'),\n",
       " Document(id='5fbd2c52-ad2e-45ac-a944-c0dafb4a51f0', metadata={}, page_content='MMR helps you get diverse results when doing similarity search.'),\n",
       " Document(id='9ef71aa1-56a2-4ce5-9492-78fcd1bf425a', metadata={}, page_content='LangChain supports Chroma, FAISS, Pinecone, and more.')]"
      ]
     },
     "execution_count": 39,
     "metadata": {},
     "output_type": "execute_result"
    }
   ],
   "source": [
    "results"
   ]
  },
  {
   "cell_type": "code",
   "execution_count": null,
   "id": "16e4d44a",
   "metadata": {},
   "outputs": [],
   "source": []
  },
  {
   "cell_type": "markdown",
   "id": "232ba401",
   "metadata": {},
   "source": [
    "# Multiquery Retriever"
   ]
  },
  {
   "cell_type": "code",
   "execution_count": 51,
   "id": "23725e44",
   "metadata": {},
   "outputs": [
    {
     "data": {
      "text/plain": [
       "True"
      ]
     },
     "execution_count": 51,
     "metadata": {},
     "output_type": "execute_result"
    }
   ],
   "source": [
    "from langchain.retrievers.multi_query import MultiQueryRetriever\n",
    "from langchain_google_genai import ChatGoogleGenerativeAI\n",
    "load_dotenv()"
   ]
  },
  {
   "cell_type": "code",
   "execution_count": 41,
   "id": "a537638a",
   "metadata": {},
   "outputs": [],
   "source": [
    "# Relevant health & wellness documents\n",
    "all_docs = [\n",
    "    Document(page_content=\"Regular walking boosts heart health and can reduce symptoms of depression.\", metadata={\"source\": \"H1\"}),\n",
    "    Document(page_content=\"Consuming leafy greens and fruits helps detox the body and improve longevity.\", metadata={\"source\": \"H2\"}),\n",
    "    Document(page_content=\"Deep sleep is crucial for cellular repair and emotional regulation.\", metadata={\"source\": \"H3\"}),\n",
    "    Document(page_content=\"Mindfulness and controlled breathing lower cortisol and improve mental clarity.\", metadata={\"source\": \"H4\"}),\n",
    "    Document(page_content=\"Drinking sufficient water throughout the day helps maintain metabolism and energy.\", metadata={\"source\": \"H5\"}),\n",
    "    Document(page_content=\"The solar energy system in modern homes helps balance electricity demand.\", metadata={\"source\": \"I1\"}),\n",
    "    Document(page_content=\"Python balances readability with power, making it a popular system design language.\", metadata={\"source\": \"I2\"}),\n",
    "    Document(page_content=\"Photosynthesis enables plants to produce energy by converting sunlight.\", metadata={\"source\": \"I3\"}),\n",
    "    Document(page_content=\"The 2022 FIFA World Cup was held in Qatar and drew global energy and excitement.\", metadata={\"source\": \"I4\"}),\n",
    "    Document(page_content=\"Black holes bend spacetime and store immense gravitational energy.\", metadata={\"source\": \"I5\"}),\n",
    "]"
   ]
  },
  {
   "cell_type": "code",
   "execution_count": 42,
   "id": "7395e172",
   "metadata": {},
   "outputs": [],
   "source": [
    "vectorstore = FAISS.from_documents(\n",
    "    embedding=embedding_model,\n",
    "    documents=all_docs\n",
    ")"
   ]
  },
  {
   "cell_type": "code",
   "execution_count": 46,
   "id": "a846fbb6",
   "metadata": {},
   "outputs": [],
   "source": [
    "retriever = vectorstore.as_retriever(search_kwargs={'k': 6, 'lambda_mult': 0.25})"
   ]
  },
  {
   "cell_type": "code",
   "execution_count": 69,
   "id": "531aa262",
   "metadata": {},
   "outputs": [],
   "source": [
    "import os\n",
    "api_key = os.getenv(\"GOOGLE_API_KEY\")\n",
    "llm = ChatGoogleGenerativeAI(model = \"gemini-2.5-flash\", api_key=api_key)"
   ]
  },
  {
   "cell_type": "code",
   "execution_count": 70,
   "id": "ccf9deea",
   "metadata": {},
   "outputs": [],
   "source": [
    "multiquery_retriever = MultiQueryRetriever.from_llm(\n",
    "    llm=llm,\n",
    "    retriever=retriever\n",
    ")"
   ]
  },
  {
   "cell_type": "code",
   "execution_count": 71,
   "id": "8b49fd07",
   "metadata": {},
   "outputs": [],
   "source": [
    "query = \"How to improve energy levels and maintain balance?\"\n",
    "\n",
    "result = multiquery_retriever.invoke(query)"
   ]
  },
  {
   "cell_type": "code",
   "execution_count": 73,
   "id": "6acb713e",
   "metadata": {},
   "outputs": [
    {
     "name": "stdout",
     "output_type": "stream",
     "text": [
      "Drinking sufficient water throughout the day helps maintain metabolism and energy.\n",
      "Consuming leafy greens and fruits helps detox the body and improve longevity.\n",
      "Regular walking boosts heart health and can reduce symptoms of depression.\n",
      "Mindfulness and controlled breathing lower cortisol and improve mental clarity.\n",
      "Deep sleep is crucial for cellular repair and emotional regulation.\n",
      "The solar energy system in modern homes helps balance electricity demand.\n"
     ]
    }
   ],
   "source": [
    "for ans in result:\n",
    "    print(ans.page_content)"
   ]
  },
  {
   "cell_type": "code",
   "execution_count": null,
   "id": "5eaeb449",
   "metadata": {},
   "outputs": [],
   "source": []
  },
  {
   "cell_type": "markdown",
   "id": "01cf1fc7",
   "metadata": {},
   "source": [
    "# ContextualCompressionRetriever"
   ]
  },
  {
   "cell_type": "code",
   "execution_count": 76,
   "id": "fcc26c37",
   "metadata": {},
   "outputs": [],
   "source": [
    "from langchain.retrievers.contextual_compression import ContextualCompressionRetriever\n",
    "from langchain.retrievers.document_compressors import LLMChainExtractor"
   ]
  },
  {
   "cell_type": "code",
   "execution_count": 77,
   "id": "9d9a0210",
   "metadata": {},
   "outputs": [],
   "source": [
    "# Recreate the document objects from the previous data\n",
    "docs = [\n",
    "    Document(page_content=(\n",
    "        \"\"\"The Grand Canyon is one of the most visited natural wonders in the world.\n",
    "        Photosynthesis is the process by which green plants convert sunlight into energy.\n",
    "        Millions of tourists travel to see it every year. The rocks date back millions of years.\"\"\"\n",
    "    ), metadata={\"source\": \"Doc1\"}),\n",
    "\n",
    "    Document(page_content=(\n",
    "        \"\"\"In medieval Europe, castles were built primarily for defense.\n",
    "        The chlorophyll in plant cells captures sunlight during photosynthesis.\n",
    "        Knights wore armor made of metal. Siege weapons were often used to breach castle walls.\"\"\"\n",
    "    ), metadata={\"source\": \"Doc2\"}),\n",
    "\n",
    "    Document(page_content=(\n",
    "        \"\"\"Basketball was invented by Dr. James Naismith in the late 19th century.\n",
    "        It was originally played with a soccer ball and peach baskets. NBA is now a global league.\"\"\"\n",
    "    ), metadata={\"source\": \"Doc3\"}),\n",
    "\n",
    "    Document(page_content=(\n",
    "        \"\"\"The history of cinema began in the late 1800s. Silent films were the earliest form.\n",
    "        Thomas Edison was among the pioneers. Photosynthesis does not occur in animal cells.\n",
    "        Modern filmmaking involves complex CGI and sound design.\"\"\"\n",
    "    ), metadata={\"source\": \"Doc4\"})\n",
    "]"
   ]
  },
  {
   "cell_type": "code",
   "execution_count": 79,
   "id": "89927154",
   "metadata": {},
   "outputs": [],
   "source": [
    "vectorstore = FAISS.from_documents(\n",
    "    embedding=embedding_model,\n",
    "    documents=docs\n",
    ")"
   ]
  },
  {
   "cell_type": "code",
   "execution_count": 80,
   "id": "31384dd2",
   "metadata": {},
   "outputs": [],
   "source": [
    "retriever = vectorstore.as_retriever(search_kwargs={\"k\": 5})"
   ]
  },
  {
   "cell_type": "code",
   "execution_count": 81,
   "id": "3c0f4065",
   "metadata": {},
   "outputs": [],
   "source": [
    "compressor = LLMChainExtractor.from_llm(llm)"
   ]
  },
  {
   "cell_type": "code",
   "execution_count": 82,
   "id": "b0bd4f6d",
   "metadata": {},
   "outputs": [],
   "source": [
    "compression_retriever = ContextualCompressionRetriever(\n",
    "    base_compressor=compressor, \n",
    "    base_retriever=retriever\n",
    ")"
   ]
  },
  {
   "cell_type": "code",
   "execution_count": 83,
   "id": "b1afe44a",
   "metadata": {},
   "outputs": [],
   "source": [
    "query = \"What is photosynthesis?\"\n",
    "result = compression_retriever.invoke(query)"
   ]
  },
  {
   "cell_type": "code",
   "execution_count": 84,
   "id": "716f8ab1",
   "metadata": {},
   "outputs": [
    {
     "name": "stdout",
     "output_type": "stream",
     "text": [
      "Photosynthesis is the process by which green plants convert sunlight into energy.\n",
      "The chlorophyll in plant cells captures sunlight during photosynthesis.\n"
     ]
    }
   ],
   "source": [
    "for ans in result:\n",
    "    print(ans.page_content)"
   ]
  }
 ],
 "metadata": {
  "kernelspec": {
   "display_name": "Python 3",
   "language": "python",
   "name": "python3"
  },
  "language_info": {
   "codemirror_mode": {
    "name": "ipython",
    "version": 3
   },
   "file_extension": ".py",
   "mimetype": "text/x-python",
   "name": "python",
   "nbconvert_exporter": "python",
   "pygments_lexer": "ipython3",
   "version": "3.12.4"
  }
 },
 "nbformat": 4,
 "nbformat_minor": 5
}
