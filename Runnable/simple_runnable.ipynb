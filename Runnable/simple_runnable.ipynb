{
 "cells": [
  {
   "cell_type": "code",
   "execution_count": 1,
   "id": "7226ef36",
   "metadata": {},
   "outputs": [],
   "source": [
    "import random"
   ]
  },
  {
   "cell_type": "code",
   "execution_count": null,
   "id": "785b93aa",
   "metadata": {},
   "outputs": [],
   "source": [
    "class LLM():\n",
    "    def __init__(self):\n",
    "        print(\"LLM is created\")\n",
    "    \n",
    "    def predict(self, prompt):\n",
    "        response_list = [\n",
    "            'Delhi is the capital of India',\n",
    "            'IPL is a cricket league',\n",
    "            'AI stands for Artificial Intelligence'\n",
    "        ]\n",
    "\n",
    "        return {\"output\":random.choice(response_list)}"
   ]
  },
  {
   "cell_type": "code",
   "execution_count": 27,
   "id": "4c56a137",
   "metadata": {},
   "outputs": [],
   "source": [
    "class PromprTemplate():\n",
    "    def __init__(self, template, input_variables):\n",
    "        self.template = template\n",
    "        self.input_variables = input_variables\n",
    "    \n",
    "    def format(self, input_variables):\n",
    "        return self.template.format(**input_variables)"
   ]
  },
  {
   "cell_type": "code",
   "execution_count": 28,
   "id": "aae7365a",
   "metadata": {},
   "outputs": [
    {
     "name": "stdout",
     "output_type": "stream",
     "text": [
      "LLM is created\n"
     ]
    }
   ],
   "source": [
    "llm = LLM()"
   ]
  },
  {
   "cell_type": "code",
   "execution_count": 29,
   "id": "1422a3d0",
   "metadata": {},
   "outputs": [],
   "source": [
    "template = PromprTemplate(\n",
    "    template=\"one line from {topic}\",\n",
    "    input_variables=['topic']\n",
    ")"
   ]
  },
  {
   "cell_type": "code",
   "execution_count": 30,
   "id": "8c48b8bb",
   "metadata": {},
   "outputs": [],
   "source": [
    "prompt = template.format({\"topic\": \"india\"})"
   ]
  },
  {
   "cell_type": "code",
   "execution_count": 31,
   "id": "49157394",
   "metadata": {},
   "outputs": [
    {
     "data": {
      "text/plain": [
       "'one line from india'"
      ]
     },
     "execution_count": 31,
     "metadata": {},
     "output_type": "execute_result"
    }
   ],
   "source": [
    "prompt"
   ]
  },
  {
   "cell_type": "code",
   "execution_count": 32,
   "id": "3850c6c4",
   "metadata": {},
   "outputs": [
    {
     "data": {
      "text/plain": [
       "{'AI stands for Artificial Intelligence'}"
      ]
     },
     "execution_count": 32,
     "metadata": {},
     "output_type": "execute_result"
    }
   ],
   "source": [
    "llm.predict(prompt)"
   ]
  },
  {
   "cell_type": "code",
   "execution_count": 34,
   "id": "4bf69c47",
   "metadata": {},
   "outputs": [],
   "source": [
    "class Chain():\n",
    "    def __init__(self, llm, prompt):\n",
    "        \n",
    "        self.llm = llm\n",
    "        self.prompt = prompt\n",
    "\n",
    "    def run(self, input_dis):\n",
    "        final_prompt = self.prompt.format(input_dis)\n",
    "        output = self.llm.predict(final_prompt)\n",
    "\n",
    "        return output "
   ]
  },
  {
   "cell_type": "code",
   "execution_count": 35,
   "id": "2624b5d9",
   "metadata": {},
   "outputs": [],
   "source": [
    "template = PromprTemplate(\n",
    "        template=\"tell me about {topic} in {line} line\",\n",
    "        input_variables=['topic', 'line']\n",
    "    )"
   ]
  },
  {
   "cell_type": "code",
   "execution_count": 36,
   "id": "821c0b51",
   "metadata": {},
   "outputs": [],
   "source": [
    "chain = Chain(llm, template)"
   ]
  },
  {
   "cell_type": "code",
   "execution_count": 37,
   "id": "4eed3a30",
   "metadata": {},
   "outputs": [
    {
     "data": {
      "text/plain": [
       "{'IPL is a cricket league'}"
      ]
     },
     "execution_count": 37,
     "metadata": {},
     "output_type": "execute_result"
    }
   ],
   "source": [
    "chain.run({'topic':\"india\", \"line\":4})"
   ]
  },
  {
   "cell_type": "code",
   "execution_count": null,
   "id": "f6ed9739",
   "metadata": {},
   "outputs": [],
   "source": []
  }
 ],
 "metadata": {
  "kernelspec": {
   "display_name": "Python 3",
   "language": "python",
   "name": "python3"
  },
  "language_info": {
   "codemirror_mode": {
    "name": "ipython",
    "version": 3
   },
   "file_extension": ".py",
   "mimetype": "text/x-python",
   "name": "python",
   "nbconvert_exporter": "python",
   "pygments_lexer": "ipython3",
   "version": "3.12.4"
  }
 },
 "nbformat": 4,
 "nbformat_minor": 5
}
