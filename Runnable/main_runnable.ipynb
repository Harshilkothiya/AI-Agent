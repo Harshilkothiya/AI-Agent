{
 "cells": [
  {
   "cell_type": "code",
   "execution_count": 4,
   "id": "9e4eb2b0",
   "metadata": {},
   "outputs": [],
   "source": [
    "from abc import ABC, abstractmethod\n",
    "import random"
   ]
  },
  {
   "cell_type": "code",
   "execution_count": 5,
   "id": "2c20ee4c",
   "metadata": {},
   "outputs": [],
   "source": [
    "class Runnable(ABC):\n",
    "    \n",
    "    @abstractmethod\n",
    "    def invoke(input_data):\n",
    "        pass"
   ]
  },
  {
   "cell_type": "code",
   "execution_count": 6,
   "id": "bd903317",
   "metadata": {},
   "outputs": [],
   "source": [
    "class LLM(Runnable):\n",
    "    def __init__(self):\n",
    "        print(\"LLM is created\")\n",
    "    \n",
    "    def predict(self, prompt):\n",
    "        response_list = [\n",
    "            'Delhi is the capital of India',\n",
    "            'IPL is a cricket league',\n",
    "            'AI stands for Artificial Intelligence'\n",
    "        ]\n",
    "\n",
    "        return {\"output\":random.choice(response_list)}\n",
    "    \n",
    "    def invoke(self, prompt):\n",
    "        response_list = [\n",
    "            'Delhi is the capital of India',\n",
    "            'IPL is a cricket league',\n",
    "            'AI stands for Artificial Intelligence'\n",
    "        ]\n",
    "\n",
    "        return {\"output\":random.choice(response_list)}"
   ]
  },
  {
   "cell_type": "code",
   "execution_count": 7,
   "id": "27483a45",
   "metadata": {},
   "outputs": [],
   "source": [
    "class PromprTemplate(Runnable):\n",
    "    def __init__(self, template, input_variables):\n",
    "        self.template = template\n",
    "        self.input_variables = input_variables\n",
    "    \n",
    "    def format(self, input_variables):\n",
    "        return self.template.format(**input_variables)\n",
    "    \n",
    "    def invoke(self, input_variables):\n",
    "        return self.template.format(**input_variables)"
   ]
  },
  {
   "cell_type": "code",
   "execution_count": 21,
   "id": "b08284d9",
   "metadata": {},
   "outputs": [],
   "source": [
    "class OutputParser(Runnable):\n",
    "    def __init__(self):\n",
    "        pass\n",
    "    \n",
    "    def invoke(self, input_data):\n",
    "        return input_data['output']"
   ]
  },
  {
   "cell_type": "code",
   "execution_count": 15,
   "id": "6884f0a0",
   "metadata": {},
   "outputs": [],
   "source": [
    "class RunnableConnector(Runnable):\n",
    "    def __init__(self, runnable_list):\n",
    "        self.runnable_list = runnable_list\n",
    "\n",
    "    def invoke(self, input_data):\n",
    "        for runnable in self.runnable_list:\n",
    "            input_data = runnable.invoke(input_data)\n",
    "        return input_data"
   ]
  },
  {
   "cell_type": "code",
   "execution_count": 10,
   "id": "1ad562a7",
   "metadata": {},
   "outputs": [],
   "source": [
    "template = PromprTemplate(\n",
    "    template='give me the best about {topic}',\n",
    "    input_variables=['toipc']\n",
    ")"
   ]
  },
  {
   "cell_type": "code",
   "execution_count": 22,
   "id": "96e410e5",
   "metadata": {},
   "outputs": [],
   "source": [
    "parser = OutputParser()"
   ]
  },
  {
   "cell_type": "code",
   "execution_count": 23,
   "id": "0719c5f9",
   "metadata": {},
   "outputs": [
    {
     "name": "stdout",
     "output_type": "stream",
     "text": [
      "LLM is created\n"
     ]
    }
   ],
   "source": [
    "llm = LLM()"
   ]
  },
  {
   "cell_type": "code",
   "execution_count": 24,
   "id": "b491d1b6",
   "metadata": {},
   "outputs": [],
   "source": [
    "chain = RunnableConnector([template, llm, parser])"
   ]
  },
  {
   "cell_type": "code",
   "execution_count": 27,
   "id": "0809d5e5",
   "metadata": {},
   "outputs": [
    {
     "data": {
      "text/plain": [
       "'IPL is a cricket league'"
      ]
     },
     "execution_count": 27,
     "metadata": {},
     "output_type": "execute_result"
    }
   ],
   "source": [
    "chain.invoke({\"topic\" :'india'})"
   ]
  },
  {
   "cell_type": "code",
   "execution_count": 28,
   "id": "c0f5aa26",
   "metadata": {},
   "outputs": [],
   "source": [
    "# now by using this runnable base class we can add sa many as chian"
   ]
  },
  {
   "cell_type": "code",
   "execution_count": 29,
   "id": "33bcd658",
   "metadata": {},
   "outputs": [],
   "source": [
    "template1 = PromprTemplate(\n",
    "    template=\"giive me the joke about {topic}\",\n",
    "    input_variables=['topic']\n",
    ")"
   ]
  },
  {
   "cell_type": "code",
   "execution_count": 47,
   "id": "a4bf6df6",
   "metadata": {},
   "outputs": [],
   "source": [
    "template2 = PromprTemplate(\n",
    "    template='Explain this joke {output}',\n",
    "    input_variables=[\"output\"]\n",
    ")"
   ]
  },
  {
   "cell_type": "code",
   "execution_count": 56,
   "id": "826d2ea3",
   "metadata": {},
   "outputs": [],
   "source": [
    "chain1 = RunnableConnector([template1, llm])\n",
    "chain2 = RunnableConnector([template2, llm, parser])"
   ]
  },
  {
   "cell_type": "code",
   "execution_count": 57,
   "id": "6d7f128f",
   "metadata": {},
   "outputs": [],
   "source": [
    "chain = RunnableConnector([chain1, chain2])"
   ]
  },
  {
   "cell_type": "code",
   "execution_count": 58,
   "id": "bce32fe8",
   "metadata": {},
   "outputs": [
    {
     "data": {
      "text/plain": [
       "'AI stands for Artificial Intelligence'"
      ]
     },
     "execution_count": 58,
     "metadata": {},
     "output_type": "execute_result"
    }
   ],
   "source": [
    "chain.invoke({'topic':'usa'})"
   ]
  },
  {
   "cell_type": "code",
   "execution_count": null,
   "id": "a152044f",
   "metadata": {},
   "outputs": [],
   "source": []
  }
 ],
 "metadata": {
  "kernelspec": {
   "display_name": "Python 3",
   "language": "python",
   "name": "python3"
  },
  "language_info": {
   "codemirror_mode": {
    "name": "ipython",
    "version": 3
   },
   "file_extension": ".py",
   "mimetype": "text/x-python",
   "name": "python",
   "nbconvert_exporter": "python",
   "pygments_lexer": "ipython3",
   "version": "3.12.4"
  }
 },
 "nbformat": 4,
 "nbformat_minor": 5
}
