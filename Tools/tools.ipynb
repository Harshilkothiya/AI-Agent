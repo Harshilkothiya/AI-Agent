{
 "cells": [
  {
   "cell_type": "code",
   "execution_count": 1,
   "id": "05f30a6a",
   "metadata": {},
   "outputs": [
    {
     "name": "stdout",
     "output_type": "stream",
     "text": [
      "Defaulting to user installation because normal site-packages is not writeable\n",
      "Collecting duckduckgo-search\n",
      "  Downloading duckduckgo_search-8.1.1-py3-none-any.whl.metadata (16 kB)\n",
      "Collecting click>=8.1.8 (from duckduckgo-search)\n",
      "  Using cached click-8.2.1-py3-none-any.whl.metadata (2.5 kB)\n",
      "Collecting primp>=0.15.0 (from duckduckgo-search)\n",
      "  Downloading primp-0.15.0-cp38-abi3-win_amd64.whl.metadata (13 kB)\n",
      "Collecting lxml>=5.3.0 (from duckduckgo-search)\n",
      "  Downloading lxml-6.0.1-cp312-cp312-win_amd64.whl.metadata (3.9 kB)\n",
      "Requirement already satisfied: colorama in c:\\users\\dell\\appdata\\roaming\\python\\python312\\site-packages (from click>=8.1.8->duckduckgo-search) (0.4.6)\n",
      "Downloading duckduckgo_search-8.1.1-py3-none-any.whl (18 kB)\n",
      "Using cached click-8.2.1-py3-none-any.whl (102 kB)\n",
      "Downloading lxml-6.0.1-cp312-cp312-win_amd64.whl (4.0 MB)\n",
      "   ---------------------------------------- 0.0/4.0 MB ? eta -:--:--\n",
      "   -- ------------------------------------- 0.3/4.0 MB ? eta -:--:--\n",
      "   ------- -------------------------------- 0.8/4.0 MB 2.2 MB/s eta 0:00:02\n",
      "   ---------- ----------------------------- 1.0/4.0 MB 2.2 MB/s eta 0:00:02\n",
      "   --------------- ------------------------ 1.6/4.0 MB 2.2 MB/s eta 0:00:02\n",
      "   -------------------- ------------------- 2.1/4.0 MB 2.3 MB/s eta 0:00:01\n",
      "   -------------------------- ------------- 2.6/4.0 MB 2.2 MB/s eta 0:00:01\n",
      "   ---------------------------- ----------- 2.9/4.0 MB 2.1 MB/s eta 0:00:01\n",
      "   ------------------------------- -------- 3.1/4.0 MB 2.1 MB/s eta 0:00:01\n",
      "   ------------------------------------ --- 3.7/4.0 MB 2.0 MB/s eta 0:00:01\n",
      "   ---------------------------------------  3.9/4.0 MB 1.9 MB/s eta 0:00:01\n",
      "   ---------------------------------------- 4.0/4.0 MB 1.9 MB/s  0:00:02\n",
      "Downloading primp-0.15.0-cp38-abi3-win_amd64.whl (3.1 MB)\n",
      "   ---------------------------------------- 0.0/3.1 MB ? eta -:--:--\n",
      "   --- ------------------------------------ 0.3/3.1 MB ? eta -:--:--\n",
      "   ------ --------------------------------- 0.5/3.1 MB 1.7 MB/s eta 0:00:02\n",
      "   ------------- -------------------------- 1.0/3.1 MB 1.9 MB/s eta 0:00:02\n",
      "   ------------------- -------------------- 1.6/3.1 MB 2.2 MB/s eta 0:00:01\n",
      "   ----------------------- ---------------- 1.8/3.1 MB 2.1 MB/s eta 0:00:01\n",
      "   -------------------------- ------------- 2.1/3.1 MB 2.0 MB/s eta 0:00:01\n",
      "   --------------------------------- ------ 2.6/3.1 MB 1.8 MB/s eta 0:00:01\n",
      "   ---------------------------------------- 3.1/3.1 MB 1.9 MB/s  0:00:01\n",
      "Installing collected packages: primp, lxml, click, duckduckgo-search\n",
      "\n",
      "   ---------------------------------------- 0/4 [primp]\n",
      "   ---------- ----------------------------- 1/4 [lxml]\n",
      "   ---------- ----------------------------- 1/4 [lxml]\n",
      "   ---------- ----------------------------- 1/4 [lxml]\n",
      "   ---------- ----------------------------- 1/4 [lxml]\n",
      "   ---------- ----------------------------- 1/4 [lxml]\n",
      "   ---------- ----------------------------- 1/4 [lxml]\n",
      "   ---------- ----------------------------- 1/4 [lxml]\n",
      "   ---------- ----------------------------- 1/4 [lxml]\n",
      "   ---------- ----------------------------- 1/4 [lxml]\n",
      "  Attempting uninstall: click\n",
      "   ---------- ----------------------------- 1/4 [lxml]\n",
      "    Found existing installation: click 8.1.7\n",
      "   ---------- ----------------------------- 1/4 [lxml]\n",
      "    Uninstalling click-8.1.7:\n",
      "   ---------- ----------------------------- 1/4 [lxml]\n",
      "      Successfully uninstalled click-8.1.7\n",
      "   ---------- ----------------------------- 1/4 [lxml]\n",
      "   -------------------- ------------------- 2/4 [click]\n",
      "   -------------------- ------------------- 2/4 [click]\n",
      "   -------------------- ------------------- 2/4 [click]\n",
      "   -------------------- ------------------- 2/4 [click]\n",
      "   ------------------------------ --------- 3/4 [duckduckgo-search]\n",
      "   ------------------------------ --------- 3/4 [duckduckgo-search]\n",
      "   ------------------------------ --------- 3/4 [duckduckgo-search]\n",
      "   ------------------------------ --------- 3/4 [duckduckgo-search]\n",
      "   ---------------------------------------- 4/4 [duckduckgo-search]\n",
      "\n",
      "Successfully installed click-8.2.1 duckduckgo-search-8.1.1 lxml-6.0.1 primp-0.15.0\n"
     ]
    }
   ],
   "source": [
    "!pip install duckduckgo-search"
   ]
  },
  {
   "cell_type": "code",
   "execution_count": 2,
   "id": "c45ae7c4",
   "metadata": {},
   "outputs": [],
   "source": [
    "from langchain_community.tools import DuckDuckGoSearchResults"
   ]
  },
  {
   "cell_type": "code",
   "execution_count": 12,
   "id": "62acaef2",
   "metadata": {},
   "outputs": [
    {
     "name": "stderr",
     "output_type": "stream",
     "text": [
      "C:\\Users\\dell\\AppData\\Roaming\\Python\\Python312\\site-packages\\langchain_community\\utilities\\duckduckgo_search.py:63: RuntimeWarning: This package (`duckduckgo_search`) has been renamed to `ddgs`! Use `pip install ddgs` instead.\n",
      "  with DDGS() as ddgs:\n"
     ]
    }
   ],
   "source": [
    "search_tool = DuckDuckGoSearchResults()\n",
    "result = search_tool.invoke(\"who is the best wicket keeper in cricket\")"
   ]
  },
  {
   "cell_type": "code",
   "execution_count": 13,
   "id": "d8ef168c",
   "metadata": {},
   "outputs": [
    {
     "data": {
      "text/plain": [
       "\"snippet: Hello, Consumer Enter your 9 digit consumer number and pay online Quick Pay, title: BEST Online Payment, link: https://www.bestundertaking.net/, snippet: Search By Application No Reference No Copyright © All Rights Reserved IT Department, BEST Undertaking, Mumbai., title: BEST Online Payment, link: https://www.bestundertaking.net/SearchApplicationStatusMain.aspx, snippet: ECS/Auto debit facility is available for BEST consumers. Consumer may download NACH form from our website https://www.bestundertaking.com or visit our nearest ward office and submit …, title: New Online Payment - BEST Undertaking, link: https://www.bestundertaking.net/new_paymentpath.aspx, snippet: May 9, 2025 · Upload Required Document's Please select Image.Please select Sign.Please select Occupancy Proof file.Please select Identity Proof file.Please select Installation Test ..., title: BES&T New Electric Supply Connection - BEST Undertaking, link: https://www.bestundertaking.net/NewConnection.aspx\""
      ]
     },
     "execution_count": 13,
     "metadata": {},
     "output_type": "execute_result"
    }
   ],
   "source": [
    "result"
   ]
  },
  {
   "cell_type": "code",
   "execution_count": 15,
   "id": "85e78e69",
   "metadata": {},
   "outputs": [
    {
     "name": "stdout",
     "output_type": "stream",
     "text": [
      "duckduckgo_results_json\n",
      "A wrapper around Duck Duck Go Search. Useful for when you need to answer questions about current events. Input should be a search query.\n",
      "{'query': {'description': 'search query to look up', 'title': 'Query', 'type': 'string'}}\n"
     ]
    }
   ],
   "source": [
    "print(search_tool.name)\n",
    "print(search_tool.description)\n",
    "print(search_tool.args)"
   ]
  },
  {
   "cell_type": "code",
   "execution_count": 16,
   "id": "d5a76abe",
   "metadata": {},
   "outputs": [],
   "source": [
    "# 2 shell tool\n"
   ]
  },
  {
   "cell_type": "code",
   "execution_count": 17,
   "id": "cc6e4b37",
   "metadata": {},
   "outputs": [],
   "source": [
    "from langchain_community.tools import ShellTool"
   ]
  },
  {
   "cell_type": "code",
   "execution_count": 18,
   "id": "ddb23c7e",
   "metadata": {},
   "outputs": [],
   "source": [
    "shell_tool = ShellTool()"
   ]
  },
  {
   "cell_type": "code",
   "execution_count": 20,
   "id": "8b8e8210",
   "metadata": {},
   "outputs": [
    {
     "name": "stdout",
     "output_type": "stream",
     "text": [
      "Executing command:\n",
      " pwd\n"
     ]
    },
    {
     "name": "stderr",
     "output_type": "stream",
     "text": [
      "C:\\Users\\dell\\AppData\\Roaming\\Python\\Python312\\site-packages\\langchain_community\\tools\\shell\\tool.py:33: UserWarning: The shell tool has no safeguards by default. Use at your own risk.\n",
      "  warnings.warn(\n"
     ]
    },
    {
     "data": {
      "text/plain": [
       "\"'pwd' is not recognized as an internal or external command,\\r\\noperable program or batch file.\\r\\n\""
      ]
     },
     "execution_count": 20,
     "metadata": {},
     "output_type": "execute_result"
    }
   ],
   "source": [
    "shell_tool.invoke('pwd')"
   ]
  },
  {
   "cell_type": "code",
   "execution_count": 21,
   "id": "6dc3fc12",
   "metadata": {},
   "outputs": [],
   "source": [
    "# custom tools "
   ]
  },
  {
   "cell_type": "code",
   "execution_count": 22,
   "id": "41aa57ad",
   "metadata": {},
   "outputs": [],
   "source": [
    "from langchain_core.tools import tool"
   ]
  },
  {
   "cell_type": "code",
   "execution_count": 28,
   "id": "d5d0ec8b",
   "metadata": {},
   "outputs": [],
   "source": [
    "@tool\n",
    "def add(a: int, b: int)->int:\n",
    "    '''this is the tool use to add two number'''\n",
    "    return a+b"
   ]
  },
  {
   "cell_type": "code",
   "execution_count": 29,
   "id": "2425e420",
   "metadata": {},
   "outputs": [],
   "source": [
    "add_tool = add.invoke({\"a\":1, \"b\":2})"
   ]
  },
  {
   "cell_type": "code",
   "execution_count": 30,
   "id": "92ab4d61",
   "metadata": {},
   "outputs": [
    {
     "data": {
      "text/plain": [
       "3"
      ]
     },
     "execution_count": 30,
     "metadata": {},
     "output_type": "execute_result"
    }
   ],
   "source": [
    "add_tool"
   ]
  },
  {
   "cell_type": "code",
   "execution_count": 48,
   "id": "4cacdbb9",
   "metadata": {},
   "outputs": [
    {
     "ename": "AttributeError",
     "evalue": "'function' object has no attribute 'name'",
     "output_type": "error",
     "traceback": [
      "\u001b[1;31m---------------------------------------------------------------------------\u001b[0m",
      "\u001b[1;31mAttributeError\u001b[0m                            Traceback (most recent call last)",
      "Cell \u001b[1;32mIn[48], line 1\u001b[0m\n\u001b[1;32m----> 1\u001b[0m \u001b[38;5;28mprint\u001b[39m(\u001b[43madd\u001b[49m\u001b[38;5;241;43m.\u001b[39;49m\u001b[43mname\u001b[49m)\n\u001b[0;32m      2\u001b[0m \u001b[38;5;28mprint\u001b[39m(add\u001b[38;5;241m.\u001b[39mdescription)\n\u001b[0;32m      3\u001b[0m \u001b[38;5;28mprint\u001b[39m(add\u001b[38;5;241m.\u001b[39margs)\n",
      "\u001b[1;31mAttributeError\u001b[0m: 'function' object has no attribute 'name'"
     ]
    }
   ],
   "source": [
    "print(add.name)\n",
    "print(add.description)\n",
    "print(add.args)"
   ]
  },
  {
   "cell_type": "code",
   "execution_count": null,
   "id": "1083be3f",
   "metadata": {},
   "outputs": [],
   "source": [
    "# Method 2 - Using StructuredTool"
   ]
  },
  {
   "cell_type": "code",
   "execution_count": null,
   "id": "5f9513d2",
   "metadata": {},
   "outputs": [],
   "source": [
    "from langchain.tools import StructuredTool\n",
    "from pydantic import BaseModel, Field"
   ]
  },
  {
   "cell_type": "code",
   "execution_count": null,
   "id": "cd5d5c11",
   "metadata": {},
   "outputs": [
    {
     "name": "stderr",
     "output_type": "stream",
     "text": [
      "C:\\Users\\dell\\AppData\\Roaming\\Python\\Python312\\site-packages\\pydantic\\fields.py:826: PydanticDeprecatedSince20: Using extra keyword arguments on `Field` is deprecated and will be removed. Use `json_schema_extra` instead. (Extra keys: 'required'). Deprecated in Pydantic V2.0 to be removed in V3.0. See Pydantic V2 Migration Guide at https://errors.pydantic.dev/2.9/migration/\n",
      "  warn(\n",
      "C:\\Users\\dell\\AppData\\Roaming\\Python\\Python312\\site-packages\\pydantic\\fields.py:826: PydanticDeprecatedSince20: Using extra keyword arguments on `Field` is deprecated and will be removed. Use `json_schema_extra` instead. (Extra keys: 'required'). Deprecated in Pydantic V2.0 to be removed in V3.0. See Pydantic V2 Migration Guide at https://errors.pydantic.dev/2.9/migration/\n",
      "  warn(\n"
     ]
    }
   ],
   "source": [
    "class AddInput(BaseModel):\n",
    "    a: int = Field(required = True, description=\"First number for addition\")\n",
    "    b: int = Field(required = True, description=\"sec number for addition\")"
   ]
  },
  {
   "cell_type": "code",
   "execution_count": null,
   "id": "4fc66aa8",
   "metadata": {},
   "outputs": [],
   "source": [
    "def add(a, b):\n",
    "    return a+b"
   ]
  },
  {
   "cell_type": "code",
   "execution_count": null,
   "id": "19e5735f",
   "metadata": {},
   "outputs": [],
   "source": [
    "add_tool = StructuredTool.from_function(\n",
    "    func=add,\n",
    "    name='Addition',\n",
    "    description=\"add 2 number\",\n",
    "    args_schema=AddInput    \n",
    ")"
   ]
  },
  {
   "cell_type": "code",
   "execution_count": null,
   "id": "5974adbc",
   "metadata": {},
   "outputs": [],
   "source": [
    "result = add_tool.invoke({\"a\":1, \"b\":2})"
   ]
  },
  {
   "cell_type": "code",
   "execution_count": null,
   "id": "49210b79",
   "metadata": {},
   "outputs": [
    {
     "data": {
      "text/plain": [
       "3"
      ]
     },
     "execution_count": 38,
     "metadata": {},
     "output_type": "execute_result"
    }
   ],
   "source": [
    "result"
   ]
  },
  {
   "cell_type": "code",
   "execution_count": null,
   "id": "74dc0247",
   "metadata": {},
   "outputs": [],
   "source": [
    "# Method 3 - Using BaseTool Class"
   ]
  },
  {
   "cell_type": "code",
   "execution_count": null,
   "id": "eba80e7f",
   "metadata": {},
   "outputs": [],
   "source": [
    "from langchain.tools import BaseTool\n",
    "from typing import Type"
   ]
  },
  {
   "cell_type": "code",
   "execution_count": null,
   "id": "6421d617",
   "metadata": {},
   "outputs": [
    {
     "name": "stderr",
     "output_type": "stream",
     "text": [
      "C:\\Users\\dell\\AppData\\Roaming\\Python\\Python312\\site-packages\\pydantic\\fields.py:826: PydanticDeprecatedSince20: Using extra keyword arguments on `Field` is deprecated and will be removed. Use `json_schema_extra` instead. (Extra keys: 'required'). Deprecated in Pydantic V2.0 to be removed in V3.0. See Pydantic V2 Migration Guide at https://errors.pydantic.dev/2.9/migration/\n",
      "  warn(\n",
      "C:\\Users\\dell\\AppData\\Roaming\\Python\\Python312\\site-packages\\pydantic\\fields.py:826: PydanticDeprecatedSince20: Using extra keyword arguments on `Field` is deprecated and will be removed. Use `json_schema_extra` instead. (Extra keys: 'required'). Deprecated in Pydantic V2.0 to be removed in V3.0. See Pydantic V2 Migration Guide at https://errors.pydantic.dev/2.9/migration/\n",
      "  warn(\n"
     ]
    }
   ],
   "source": [
    "class AddInput(BaseModel):\n",
    "    a: int = Field(required = True, description=\"First number for addition\")\n",
    "    b: int = Field(required = True, description=\"sec number for addition\")"
   ]
  },
  {
   "cell_type": "code",
   "execution_count": null,
   "id": "f58228d9",
   "metadata": {},
   "outputs": [],
   "source": [
    "class ADD(BaseTool):\n",
    "    name: str = \"Add\"\n",
    "    description: str = 'add 2 number',\n",
    "    args_schema : Type[BaseModel] = AddInput\n",
    "\n",
    "    def _run(self, a: int, b: int)->int:\n",
    "        return a+b"
   ]
  },
  {
   "cell_type": "code",
   "execution_count": null,
   "id": "a37dd449",
   "metadata": {},
   "outputs": [],
   "source": [
    "add_tool = ADD()"
   ]
  },
  {
   "cell_type": "code",
   "execution_count": null,
   "id": "33b93e48",
   "metadata": {},
   "outputs": [
    {
     "data": {
      "text/plain": [
       "6"
      ]
     },
     "execution_count": 47,
     "metadata": {},
     "output_type": "execute_result"
    }
   ],
   "source": [
    "add_tool.invoke({\"a\":3, \"b\":3})"
   ]
  },
  {
   "cell_type": "code",
   "execution_count": null,
   "id": "24204a81",
   "metadata": {},
   "outputs": [],
   "source": [
    "# toolkit"
   ]
  },
  {
   "cell_type": "code",
   "execution_count": 50,
   "id": "d2021329",
   "metadata": {},
   "outputs": [],
   "source": [
    "@tool\n",
    "def subtraction(a :int, b: int)-> int:\n",
    "    '''subtract 2 number'''\n",
    "    return a-b\n",
    "\n",
    "@tool\n",
    "def multiply(a: int, b: int)-> int:\n",
    "    '''multiply 2 number'''\n",
    "    return a*b"
   ]
  },
  {
   "cell_type": "code",
   "execution_count": 51,
   "id": "8ef58681",
   "metadata": {},
   "outputs": [],
   "source": [
    "class Toolkit:\n",
    "    def get_tools(self):\n",
    "        return[subtraction, multiply]"
   ]
  },
  {
   "cell_type": "code",
   "execution_count": 52,
   "id": "ee20e66e",
   "metadata": {},
   "outputs": [],
   "source": [
    "toolkit = Toolkit()"
   ]
  },
  {
   "cell_type": "code",
   "execution_count": 53,
   "id": "0bc5ef39",
   "metadata": {},
   "outputs": [
    {
     "data": {
      "text/plain": [
       "[StructuredTool(name='subtraction', description='subtract 2 number', args_schema=<class 'langchain_core.utils.pydantic.subtraction'>, func=<function subtraction at 0x000002BCF22A8180>),\n",
       " StructuredTool(name='multiply', description='multiply 2 number', args_schema=<class 'langchain_core.utils.pydantic.multiply'>, func=<function multiply at 0x000002BCF22A8AE0>)]"
      ]
     },
     "execution_count": 53,
     "metadata": {},
     "output_type": "execute_result"
    }
   ],
   "source": [
    "toolkit.get_tools()"
   ]
  }
 ],
 "metadata": {
  "kernelspec": {
   "display_name": "Python 3",
   "language": "python",
   "name": "python3"
  },
  "language_info": {
   "codemirror_mode": {
    "name": "ipython",
    "version": 3
   },
   "file_extension": ".py",
   "mimetype": "text/x-python",
   "name": "python",
   "nbconvert_exporter": "python",
   "pygments_lexer": "ipython3",
   "version": "3.12.4"
  }
 },
 "nbformat": 4,
 "nbformat_minor": 5
}
