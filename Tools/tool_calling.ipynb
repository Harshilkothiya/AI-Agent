{
 "cells": [
  {
   "cell_type": "code",
   "execution_count": 1,
   "id": "218cc9a1",
   "metadata": {},
   "outputs": [],
   "source": [
    "from langchain_core.tools import tool\n",
    "from langchain_google_genai import ChatGoogleGenerativeAI"
   ]
  },
  {
   "cell_type": "code",
   "execution_count": 2,
   "id": "db5b6879",
   "metadata": {},
   "outputs": [],
   "source": [
    "@tool\n",
    "def multiply(a: int, b: int)->int:\n",
    "    '''Multiply 2 numbers'''\n",
    "    return a*b"
   ]
  },
  {
   "cell_type": "code",
   "execution_count": 3,
   "id": "c1ec5d15",
   "metadata": {},
   "outputs": [
    {
     "data": {
      "text/plain": [
       "'Multiply 2 numbers'"
      ]
     },
     "execution_count": 3,
     "metadata": {},
     "output_type": "execute_result"
    }
   ],
   "source": [
    "multiply.description"
   ]
  },
  {
   "cell_type": "code",
   "execution_count": 4,
   "id": "db28af93",
   "metadata": {},
   "outputs": [
    {
     "data": {
      "text/plain": [
       "90"
      ]
     },
     "execution_count": 4,
     "metadata": {},
     "output_type": "execute_result"
    }
   ],
   "source": [
    "multiply.invoke({'a':10, \"b\":9})"
   ]
  },
  {
   "cell_type": "code",
   "execution_count": 5,
   "id": "0ee6073c",
   "metadata": {},
   "outputs": [],
   "source": [
    "llm = ChatGoogleGenerativeAI(model='gemini-1.5-flash')"
   ]
  },
  {
   "cell_type": "code",
   "execution_count": 8,
   "id": "3ff598db",
   "metadata": {},
   "outputs": [],
   "source": [
    "# now add toolkit to the llms"
   ]
  },
  {
   "cell_type": "code",
   "execution_count": 10,
   "id": "e523402e",
   "metadata": {},
   "outputs": [],
   "source": [
    "llm_tools = llm.bind_tools([multiply])"
   ]
  },
  {
   "cell_type": "code",
   "execution_count": 13,
   "id": "c583e72f",
   "metadata": {},
   "outputs": [],
   "source": [
    "ans = llm_tools.invoke('what is the multiply 2 with 3')"
   ]
  },
  {
   "cell_type": "code",
   "execution_count": 15,
   "id": "6918cdea",
   "metadata": {},
   "outputs": [
    {
     "data": {
      "text/plain": [
       "[{'name': 'multiply',\n",
       "  'args': {'a': 2.0, 'b': 3.0},\n",
       "  'id': 'de246069-61af-426b-b3bf-e8502d0e2823',\n",
       "  'type': 'tool_call'}]"
      ]
     },
     "execution_count": 15,
     "metadata": {},
     "output_type": "execute_result"
    }
   ],
   "source": [
    "ans.tool_calls"
   ]
  },
  {
   "cell_type": "code",
   "execution_count": 17,
   "id": "774890cd",
   "metadata": {},
   "outputs": [
    {
     "data": {
      "text/plain": [
       "ToolMessage(content='6', name='multiply', tool_call_id='de246069-61af-426b-b3bf-e8502d0e2823')"
      ]
     },
     "execution_count": 17,
     "metadata": {},
     "output_type": "execute_result"
    }
   ],
   "source": [
    "multiply.invoke(ans.tool_calls[0])"
   ]
  },
  {
   "cell_type": "code",
   "execution_count": null,
   "id": "cd5e3bc7",
   "metadata": {},
   "outputs": [],
   "source": []
  },
  {
   "cell_type": "markdown",
   "id": "107463a5",
   "metadata": {},
   "source": [
    "## Make Currency converter"
   ]
  },
  {
   "cell_type": "code",
   "execution_count": 198,
   "id": "b7074e0c",
   "metadata": {},
   "outputs": [],
   "source": [
    "from langchain_core.messages import HumanMessage\n",
    "from langchain_core.tools import InjectedToolArg\n",
    "from typing import Annotated\n",
    "import requests\n",
    "import json"
   ]
  },
  {
   "cell_type": "code",
   "execution_count": 20,
   "id": "026376f4",
   "metadata": {},
   "outputs": [],
   "source": [
    "# making of tools\n",
    "# 1. get current currency rate of that country\n",
    "# 2. change from one to another"
   ]
  },
  {
   "cell_type": "code",
   "execution_count": 152,
   "id": "171c8b55",
   "metadata": {},
   "outputs": [],
   "source": [
    "@tool \n",
    "def get_conversion_factor(base_currency: str, target_currency: str)->float:\n",
    "    '''This function fetches the currency conversion factor between a given base currency and a target currency'''\n",
    "\n",
    "    url = f'https://v6.exchangerate-api.com/v6/e28b8e23aa04d56a1f676e51/pair/{base_currency}/{target_currency}'\n",
    "\n",
    "    response = requests.get(url)\n",
    "\n",
    "    return response.json()\n",
    "\n",
    "@tool\n",
    "def convert(base_currency_value: int, conversion_rate: Annotated[float, InjectedToolArg])->float:\n",
    "    '''given a currency conversion rate this function calculates the target currency value from a given base currency value'''\n",
    "\n",
    "    return base_currency_value * conversion_rate"
   ]
  },
  {
   "cell_type": "code",
   "execution_count": 153,
   "id": "94f8ba0b",
   "metadata": {},
   "outputs": [
    {
     "data": {
      "text/plain": [
       "{'result': 'success',\n",
       " 'documentation': 'https://www.exchangerate-api.com/docs',\n",
       " 'terms_of_use': 'https://www.exchangerate-api.com/terms',\n",
       " 'time_last_update_unix': 1757376001,\n",
       " 'time_last_update_utc': 'Tue, 09 Sep 2025 00:00:01 +0000',\n",
       " 'time_next_update_unix': 1757462401,\n",
       " 'time_next_update_utc': 'Wed, 10 Sep 2025 00:00:01 +0000',\n",
       " 'base_code': 'USD',\n",
       " 'target_code': 'INR',\n",
       " 'conversion_rate': 88.0852}"
      ]
     },
     "execution_count": 153,
     "metadata": {},
     "output_type": "execute_result"
    }
   ],
   "source": [
    "get_conversion_factor.invoke({'base_currency':'USD','target_currency':'INR'})"
   ]
  },
  {
   "cell_type": "code",
   "execution_count": 154,
   "id": "42960a82",
   "metadata": {},
   "outputs": [
    {
     "data": {
      "text/plain": [
       "1110.0"
      ]
     },
     "execution_count": 154,
     "metadata": {},
     "output_type": "execute_result"
    }
   ],
   "source": [
    "convert.invoke({'base_currency_value':10, \"conversion_rate\":111})"
   ]
  },
  {
   "cell_type": "code",
   "execution_count": 185,
   "id": "eb540f8e",
   "metadata": {},
   "outputs": [],
   "source": [
    "model = ChatGoogleGenerativeAI(model='gemini-2.5-flash')\n",
    "model_tools = model.bind_tools([get_conversion_factor, convert])"
   ]
  },
  {
   "cell_type": "code",
   "execution_count": 199,
   "id": "43df3ed6",
   "metadata": {},
   "outputs": [],
   "source": [
    "# message --> stroe the conversion\n",
    "message = []\n"
   ]
  },
  {
   "cell_type": "code",
   "execution_count": 200,
   "id": "1f131e97",
   "metadata": {},
   "outputs": [],
   "source": [
    "quey = HumanMessage('What is the conversion factor between USD and INR, and based on that can you convert 10 USD to INR')\n",
    "message.append(quey)"
   ]
  },
  {
   "cell_type": "code",
   "execution_count": 201,
   "id": "5ba0e8df",
   "metadata": {},
   "outputs": [
    {
     "data": {
      "text/plain": [
       "[HumanMessage(content='What is the conversion factor between USD and INR, and based on that can you convert 10 USD to INR', additional_kwargs={}, response_metadata={})]"
      ]
     },
     "execution_count": 201,
     "metadata": {},
     "output_type": "execute_result"
    }
   ],
   "source": [
    "message"
   ]
  },
  {
   "cell_type": "code",
   "execution_count": 202,
   "id": "3c0aa414",
   "metadata": {},
   "outputs": [],
   "source": [
    "response = model_tools.invoke(message)"
   ]
  },
  {
   "cell_type": "code",
   "execution_count": 212,
   "id": "d2674e5a",
   "metadata": {},
   "outputs": [
    {
     "data": {
      "text/plain": [
       "[{'name': 'get_conversion_factor',\n",
       "  'args': {'target_currency': 'INR', 'base_currency': 'USD'},\n",
       "  'id': '095592f0-462b-40e2-90b7-930f6e0c4fd1',\n",
       "  'type': 'tool_call'}]"
      ]
     },
     "execution_count": 212,
     "metadata": {},
     "output_type": "execute_result"
    }
   ],
   "source": [
    "response.tool_calls"
   ]
  },
  {
   "cell_type": "code",
   "execution_count": 204,
   "id": "27909dfc",
   "metadata": {},
   "outputs": [
    {
     "data": {
      "text/plain": [
       "[HumanMessage(content='What is the conversion factor between USD and INR, and based on that can you convert 10 USD to INR', additional_kwargs={}, response_metadata={}),\n",
       " AIMessage(content='', additional_kwargs={'function_call': {'name': 'get_conversion_factor', 'arguments': '{\"target_currency\": \"INR\", \"base_currency\": \"USD\"}'}}, response_metadata={'prompt_feedback': {'block_reason': 0, 'safety_ratings': []}, 'finish_reason': 'STOP', 'safety_ratings': []}, id='run--2af4ec2a-85c2-4a8c-85ef-49a8c161d004-0', tool_calls=[{'name': 'get_conversion_factor', 'args': {'target_currency': 'INR', 'base_currency': 'USD'}, 'id': '095592f0-462b-40e2-90b7-930f6e0c4fd1', 'type': 'tool_call'}], usage_metadata={'input_tokens': 149, 'output_tokens': 26, 'total_tokens': 432, 'input_token_details': {'cache_read': 0}})]"
      ]
     },
     "execution_count": 204,
     "metadata": {},
     "output_type": "execute_result"
    }
   ],
   "source": [
    "message.append(response)\n",
    "message"
   ]
  },
  {
   "cell_type": "code",
   "execution_count": null,
   "id": "8626a21d",
   "metadata": {},
   "outputs": [],
   "source": [
    "# 1 tool call \n",
    "tool_message1 = get_conversion_factor.invoke(response.tool_calls[0])\n",
    "message.append(tool_message1)\n",
    "conversion_rate = json.loads(tool_message1.content)['conversion_rate']\n",
    "\n",
    "\n",
    "\n",
    "# 2 tool call\n"
   ]
  },
  {
   "cell_type": "code",
   "execution_count": null,
   "id": "afd1191a",
   "metadata": {},
   "outputs": [
    {
     "data": {
      "text/plain": [
       "AIMessage(content='The conversion factor between USD and INR is 88.0852.\\nBased on this, 10 USD is equal to 880.852 INR.', additional_kwargs={}, response_metadata={'prompt_feedback': {'block_reason': 0, 'safety_ratings': []}, 'finish_reason': 'STOP', 'safety_ratings': []}, id='run--5d0ffd3b-d61e-4d4f-a89e-5a3cb45ceaed-0', usage_metadata={'input_tokens': 376, 'output_tokens': 39, 'total_tokens': 785, 'input_token_details': {'cache_read': 0}})"
      ]
     },
     "execution_count": 211,
     "metadata": {},
     "output_type": "execute_result"
    }
   ],
   "source": [
    "# model invoke \n",
    "response2 = model_tools.invoke(message)\n",
    "response2"
   ]
  },
  {
   "cell_type": "code",
   "execution_count": 215,
   "id": "ddca3f44",
   "metadata": {},
   "outputs": [
    {
     "data": {
      "text/plain": [
       "'The conversion factor between USD and INR is 88.0852.\\nBased on this, 10 USD is equal to 880.852 INR.'"
      ]
     },
     "execution_count": 215,
     "metadata": {},
     "output_type": "execute_result"
    }
   ],
   "source": [
    "response2.content"
   ]
  },
  {
   "cell_type": "code",
   "execution_count": 213,
   "id": "dbe97cf5",
   "metadata": {},
   "outputs": [],
   "source": [
    "message.append(response2)"
   ]
  },
  {
   "cell_type": "code",
   "execution_count": 214,
   "id": "3f6fcee6",
   "metadata": {},
   "outputs": [
    {
     "data": {
      "text/plain": [
       "[HumanMessage(content='What is the conversion factor between USD and INR, and based on that can you convert 10 USD to INR', additional_kwargs={}, response_metadata={}),\n",
       " AIMessage(content='', additional_kwargs={'function_call': {'name': 'get_conversion_factor', 'arguments': '{\"target_currency\": \"INR\", \"base_currency\": \"USD\"}'}}, response_metadata={'prompt_feedback': {'block_reason': 0, 'safety_ratings': []}, 'finish_reason': 'STOP', 'safety_ratings': []}, id='run--2af4ec2a-85c2-4a8c-85ef-49a8c161d004-0', tool_calls=[{'name': 'get_conversion_factor', 'args': {'target_currency': 'INR', 'base_currency': 'USD'}, 'id': '095592f0-462b-40e2-90b7-930f6e0c4fd1', 'type': 'tool_call'}], usage_metadata={'input_tokens': 149, 'output_tokens': 26, 'total_tokens': 432, 'input_token_details': {'cache_read': 0}}),\n",
       " ToolMessage(content='{\"result\": \"success\", \"documentation\": \"https://www.exchangerate-api.com/docs\", \"terms_of_use\": \"https://www.exchangerate-api.com/terms\", \"time_last_update_unix\": 1757376001, \"time_last_update_utc\": \"Tue, 09 Sep 2025 00:00:01 +0000\", \"time_next_update_unix\": 1757462401, \"time_next_update_utc\": \"Wed, 10 Sep 2025 00:00:01 +0000\", \"base_code\": \"USD\", \"target_code\": \"INR\", \"conversion_rate\": 88.0852}', name='get_conversion_factor', tool_call_id='095592f0-462b-40e2-90b7-930f6e0c4fd1'),\n",
       " AIMessage(content='The conversion factor between USD and INR is 88.0852.\\nBased on this, 10 USD is equal to 880.852 INR.', additional_kwargs={}, response_metadata={'prompt_feedback': {'block_reason': 0, 'safety_ratings': []}, 'finish_reason': 'STOP', 'safety_ratings': []}, id='run--5d0ffd3b-d61e-4d4f-a89e-5a3cb45ceaed-0', usage_metadata={'input_tokens': 376, 'output_tokens': 39, 'total_tokens': 785, 'input_token_details': {'cache_read': 0}})]"
      ]
     },
     "execution_count": 214,
     "metadata": {},
     "output_type": "execute_result"
    }
   ],
   "source": [
    "message"
   ]
  },
  {
   "cell_type": "code",
   "execution_count": null,
   "id": "16bd2754",
   "metadata": {},
   "outputs": [],
   "source": []
  }
 ],
 "metadata": {
  "kernelspec": {
   "display_name": "Python 3",
   "language": "python",
   "name": "python3"
  },
  "language_info": {
   "codemirror_mode": {
    "name": "ipython",
    "version": 3
   },
   "file_extension": ".py",
   "mimetype": "text/x-python",
   "name": "python",
   "nbconvert_exporter": "python",
   "pygments_lexer": "ipython3",
   "version": "3.12.4"
  }
 },
 "nbformat": 4,
 "nbformat_minor": 5
}
