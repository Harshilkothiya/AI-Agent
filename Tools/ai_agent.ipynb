{
 "cells": [
  {
   "cell_type": "code",
   "execution_count": 47,
   "id": "397790bd",
   "metadata": {},
   "outputs": [],
   "source": [
    "import requests\n",
    "from langchain_core.tools import tool\n",
    "from langchain_community.tools import DuckDuckGoSearchRun\n",
    "from langchain.agents import create_react_agent, AgentExecutor\n",
    "from langchain_google_genai import ChatGoogleGenerativeAI\n",
    "from langchain import hub"
   ]
  },
  {
   "cell_type": "code",
   "execution_count": 11,
   "id": "9d00f6d5",
   "metadata": {},
   "outputs": [
    {
     "name": "stderr",
     "output_type": "stream",
     "text": [
      "C:\\Users\\dell\\AppData\\Roaming\\Python\\Python312\\site-packages\\langchain_community\\utilities\\duckduckgo_search.py:63: RuntimeWarning: This package (`duckduckgo_search`) has been renamed to `ddgs`! Use `pip install ddgs` instead.\n",
      "  with DDGS() as ddgs:\n"
     ]
    },
    {
     "data": {
      "text/plain": [
       "'Aug 30, 2025 · The capital is Gandhinagar, on the outskirts of the north-central city of Ahmedabad —the former capital, the largest city in the state, and one of the most-important textile centers in …Gujarat - Ethnic Groups, Languages, Religions: The diverse peoples …Gujarat , State and historic region, western India. Area: 75,685 sq mi (196,024 sq …Gurjara-Pratihara dynasty, either of two dynasties of medieval Hindu India. The …Gujarat - Indus Valley, Mauryan Empire, Mughal Rule: Early human settlement in …Tapti River, river in central India, rising in the Gawilgarh Hills of the central Deccan …Girnar Hills, physiographic region on the Kathiawar Peninsula, Gujarat state, west … 5 days ago · India’s capital city, New Delhi, is a union territory. Other union territories in India include the Andaman and Nicobar Islands, Chandigarh, Dadra and Nagar Haveli, Daman and Diu, … Aug 23, 2025 · Check the updated list of States and Capitals of India 2025 with 28 states & 8 union territories. Perfect for exams, GK, and competitive prep. Jun 11, 2025 · Gandhinagar, capital of Gujarat, was specifically planned and built after the partition, much like Chandigarh and New Delhi. India’s geography goes far beyond just political … 6 days ago · Gandhinagar is the capital of Gujarat, officially designated as such on May 1, 1960. It is located approximately 23 kilometers north of Ahmedabad, along the western bank of the …'"
      ]
     },
     "execution_count": 11,
     "metadata": {},
     "output_type": "execute_result"
    }
   ],
   "source": [
    "# search queries\n",
    "search = DuckDuckGoSearchRun()\n",
    "search.invoke(\"what is the capital of gujarat?\")"
   ]
  },
  {
   "cell_type": "code",
   "execution_count": 14,
   "id": "7bc17e94",
   "metadata": {},
   "outputs": [],
   "source": [
    "# another tool"
   ]
  },
  {
   "cell_type": "code",
   "execution_count": 42,
   "id": "3868e759",
   "metadata": {},
   "outputs": [],
   "source": [
    "@tool\n",
    "def get_weather_data(city: str)->str:\n",
    "    '''This function fetches the current weather data for a given city'''\n",
    "\n",
    "    url = f'https://api.weatherstack.com/current?access_key=cb193e1bcd6e4a75338951b5ba2e3f57&query={city}'\n",
    "    response = requests.get(url)\n",
    "    return response.json()"
   ]
  },
  {
   "cell_type": "code",
   "execution_count": null,
   "id": "b8ad57cb",
   "metadata": {},
   "outputs": [],
   "source": [
    "get_weather_data.invoke({'city':'New York'})"
   ]
  },
  {
   "cell_type": "code",
   "execution_count": 46,
   "id": "326fa1a6",
   "metadata": {},
   "outputs": [
    {
     "name": "stderr",
     "output_type": "stream",
     "text": [
      "C:\\Users\\dell\\AppData\\Roaming\\Python\\Python312\\site-packages\\langsmith\\client.py:272: LangSmithMissingAPIKeyWarning: API key must be provided when using hosted LangSmith API\n",
      "  warnings.warn(\n"
     ]
    }
   ],
   "source": [
    "prompt = hub.pull(\"hwchase17/react\")"
   ]
  },
  {
   "cell_type": "code",
   "execution_count": 48,
   "id": "f1e5bd44",
   "metadata": {},
   "outputs": [],
   "source": [
    "llm = ChatGoogleGenerativeAI(model='gemini-2.5-flash')"
   ]
  },
  {
   "cell_type": "code",
   "execution_count": 49,
   "id": "b11555c2",
   "metadata": {},
   "outputs": [],
   "source": [
    "agent = create_react_agent(\n",
    "    llm = llm, \n",
    "    tools=[search, get_weather_data],\n",
    "    prompt=prompt\n",
    ")"
   ]
  },
  {
   "cell_type": "code",
   "execution_count": 50,
   "id": "fc1113f3",
   "metadata": {},
   "outputs": [],
   "source": [
    "agent_executor = AgentExecutor(\n",
    "    tools=[search, get_weather_data],\n",
    "    agent=agent,\n",
    "    verbose=True\n",
    ")"
   ]
  },
  {
   "cell_type": "code",
   "execution_count": 51,
   "id": "43682e4f",
   "metadata": {},
   "outputs": [
    {
     "name": "stdout",
     "output_type": "stream",
     "text": [
      "\n",
      "\n",
      "\u001b[1m> Entering new AgentExecutor chain...\u001b[0m\n",
      "\u001b[32;1m\u001b[1;3mAction: duckduckgo_search\n",
      "Action Input: capital of Gujarat\u001b[0m"
     ]
    },
    {
     "name": "stderr",
     "output_type": "stream",
     "text": [
      "C:\\Users\\dell\\AppData\\Roaming\\Python\\Python312\\site-packages\\langchain_community\\utilities\\duckduckgo_search.py:63: RuntimeWarning: This package (`duckduckgo_search`) has been renamed to `ddgs`! Use `pip install ddgs` instead.\n",
      "  with DDGS() as ddgs:\n"
     ]
    },
    {
     "name": "stdout",
     "output_type": "stream",
     "text": [
      "\u001b[36;1m\u001b[1;3mSep 2, 2025 · Gujarat is a state with diverse culture, history and geography. Gandhinagar is the state capital, named after Mahatma Gandhi, and Ahmedabad, Surat, Baroda, Rajkot are some … Aug 27, 2025 · Gandhinagar News in Gujarati: ગાંધીનગર ગુજરાતનું પાટનગર છે. ગાંધીનગર શહેરનું નામ અને ઇતિહાસ મહાત્મા ગાંધી સાથે … 6 days ago · Gandhinagar is the capital of Gujarat, officially designated as such on May 1, 1960. It is located approximately 23 kilometers north of Ahmedabad, along the western bank of the … Dec 5, 2024 · Gandhinagar, the capital city of Gujarat, is a vibrant blend of modernity and tradition. Named after Mahatma Gandhi, the city stands as a tribute to the father of the nation, … Aug 7, 2025 · Gandhinagar is the capital of Gujarat state and a head center of the Gandhinagar district. It has four Talukas (sub districts) and various government and private offices, …\u001b[0m\u001b[32;1m\u001b[1;3mAction: get_weather_data\n",
      "Action Input: Gandhinagar\u001b[0m\u001b[33;1m\u001b[1;3m{'request': {'type': 'City', 'query': 'Gandhinagar, India', 'language': 'en', 'unit': 'm'}, 'location': {'name': 'Gandhinagar', 'country': 'India', 'region': 'Gujarat', 'lat': '23.217', 'lon': '72.683', 'timezone_id': 'Asia/Kolkata', 'localtime': '2025-09-09 14:27', 'localtime_epoch': 1757428020, 'utc_offset': '5.50'}, 'current': {'observation_time': '08:57 AM', 'temperature': 29, 'weather_code': 122, 'weather_icons': ['https://cdn.worldweatheronline.com/images/wsymbols01_png_64/wsymbol_0004_black_low_cloud.png'], 'weather_descriptions': ['Smoke'], 'astro': {'sunrise': '06:24 AM', 'sunset': '06:49 PM', 'moonrise': '07:53 PM', 'moonset': '07:45 AM', 'moon_phase': 'Waning Gibbous', 'moon_illumination': 98}, 'air_quality': {'co': '340.4', 'no2': '18.87', 'o3': '41', 'so2': '29.415', 'pm2_5': '30.155', 'pm10': '54.205', 'us-epa-index': '2', 'gb-defra-index': '2'}, 'wind_speed': 14, 'wind_degree': 202, 'wind_dir': 'SSW', 'pressure': 1008, 'precip': 0, 'humidity': 62, 'cloudcover': 50, 'feelslike': 30, 'uv_index': 7, 'visibility': 5, 'is_day': 'yes'}}\u001b[0m\u001b[32;1m\u001b[1;3mI now know the final answer\n",
      "Final Answer: The capital of Gujarat is Gandhinagar. The current weather condition in Gandhinagar is 29°C, feels like 30°C, with 'Smoke' and 62% humidity. The wind speed is 14 km/h and visibility is 5 km.\u001b[0m\n",
      "\n",
      "\u001b[1m> Finished chain.\u001b[0m\n"
     ]
    }
   ],
   "source": [
    "response = agent_executor.invoke({\"input\": \"Find the capital of Gujarat, then find it's current weather condition\"})"
   ]
  },
  {
   "cell_type": "code",
   "execution_count": 54,
   "id": "44a570ed",
   "metadata": {},
   "outputs": [
    {
     "name": "stdout",
     "output_type": "stream",
     "text": [
      "The capital of Gujarat is Gandhinagar. The current weather condition in Gandhinagar is 29°C, feels like 30°C, with 'Smoke' and 62% humidity. The wind speed is 14 km/h and visibility is 5 km.\n"
     ]
    }
   ],
   "source": [
    "print(response['output'])"
   ]
  },
  {
   "cell_type": "code",
   "execution_count": null,
   "id": "d88280f6",
   "metadata": {},
   "outputs": [],
   "source": []
  }
 ],
 "metadata": {
  "kernelspec": {
   "display_name": "Python 3",
   "language": "python",
   "name": "python3"
  },
  "language_info": {
   "codemirror_mode": {
    "name": "ipython",
    "version": 3
   },
   "file_extension": ".py",
   "mimetype": "text/x-python",
   "name": "python",
   "nbconvert_exporter": "python",
   "pygments_lexer": "ipython3",
   "version": "3.12.4"
  }
 },
 "nbformat": 4,
 "nbformat_minor": 5
}
